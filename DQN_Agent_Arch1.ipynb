{
 "cells": [
  {
   "cell_type": "markdown",
   "metadata": {
    "id": "BoYcs2KdZb01"
   },
   "source": [
    "### 1. Imports and Setups"
   ]
  },
  {
   "cell_type": "code",
   "execution_count": null,
   "metadata": {
    "id": "ceZw0NXDZb04"
   },
   "outputs": [],
   "source": [
    "# Importing libraries\n",
    "import numpy as np\n",
    "import random\n",
    "import math\n",
    "from collections import deque, defaultdict\n",
    "import collections\n",
    "import pickle\n",
    "path = '/content/gdrive/MyDrive/Colab Notebooks/RL/Test'\n",
    "from tqdm import tqdm\n",
    "\n",
    "# for building DQN model\n",
    "from tensorflow.keras import layers\n",
    "from tensorflow.keras import Sequential\n",
    "from tensorflow.keras.layers import Dense, Activation, Flatten\n",
    "from tensorflow.keras.optimizers import Adam\n",
    "import time\n",
    "\n",
    "# for plotting graphs\n",
    "import matplotlib.pyplot as plt\n"
   ]
  },
  {
   "cell_type": "code",
   "execution_count": null,
   "metadata": {
    "colab": {
     "base_uri": "https://localhost:8080/"
    },
    "id": "YKqri5I5dtTr",
    "outputId": "8d3fde91-d23b-4ad4-eb56-45e635fb2a3d"
   },
   "outputs": [
    {
     "name": "stdout",
     "output_type": "stream",
     "text": [
      "Mounted at /content/gdrive\n"
     ]
    }
   ],
   "source": [
    "from google.colab import drive\n",
    "drive.mount('/content/gdrive')"
   ]
  },
  {
   "cell_type": "code",
   "execution_count": null,
   "metadata": {
    "id": "NnF6aj4weiXp"
   },
   "outputs": [],
   "source": [
    "!cp '/content/gdrive/MyDrive/Colab Notebooks/RL/Test/Env.py' .\n",
    "!cp '/content/gdrive/MyDrive/Colab Notebooks/RL/Test/TM.npy' ."
   ]
  },
  {
   "cell_type": "code",
   "execution_count": null,
   "metadata": {
    "colab": {
     "base_uri": "https://localhost:8080/"
    },
    "id": "YQkpj1xIMQlx",
    "outputId": "cfc4e9e8-4225-4038-a518-d500f4cfae6b"
   },
   "outputs": [
    {
     "name": "stdout",
     "output_type": "stream",
     "text": [
      "WARNING:tensorflow:From /usr/local/lib/python3.7/dist-packages/tensorflow/python/compat/v2_compat.py:111: disable_resource_variables (from tensorflow.python.ops.variable_scope) is deprecated and will be removed in a future version.\n",
      "Instructions for updating:\n",
      "non-resource variables are not supported in the long term\n"
     ]
    }
   ],
   "source": [
    "# The long training time is due to the fact of the current version of Tensorflow (v2) \n",
    "# which keras uses as it backend. We could switch back to v1 Tensorflow, the training time reduces significantly.\n",
    "from keras import backend as K\n",
    "import tensorflow.compat.v1 as tf\n",
    "\n",
    "tf.disable_v2_behavior()\n",
    "jobs = 8 \n",
    "config = tf.ConfigProto(intra_op_parallelism_threads=jobs,\n",
    "                         inter_op_parallelism_threads=jobs,\n",
    "                         allow_soft_placement=True,\n",
    "                         device_count={'CPU': jobs})\n",
    "session = tf.Session(config=config)\n",
    "K.set_session(session)"
   ]
  },
  {
   "cell_type": "code",
   "execution_count": null,
   "metadata": {
    "id": "f0pQFx5t_NoO"
   },
   "outputs": [],
   "source": [
    "# Import the environment\n",
    "from Env import CabDriver"
   ]
  },
  {
   "cell_type": "markdown",
   "metadata": {
    "id": "O7RbDGKiZb06"
   },
   "source": [
    "#### 1. Defining Time Matrix"
   ]
  },
  {
   "cell_type": "code",
   "execution_count": null,
   "metadata": {
    "id": "Zb98x2N4Zb06"
   },
   "outputs": [],
   "source": [
    "# Loading the time matrix provided\n",
    "Time_matrix = np.load(\"TM.npy\")"
   ]
  },
  {
   "cell_type": "code",
   "execution_count": null,
   "metadata": {
    "colab": {
     "base_uri": "https://localhost:8080/"
    },
    "id": "ijGTSx4Fqsjy",
    "outputId": "233e82f2-79dd-4c39-ea44-7326f08ea11c"
   },
   "outputs": [
    {
     "data": {
      "text/plain": [
       "(5, 5, 24, 7)"
      ]
     },
     "execution_count": 7,
     "metadata": {},
     "output_type": "execute_result"
    }
   ],
   "source": [
    "Time_matrix.shape"
   ]
  },
  {
   "cell_type": "code",
   "execution_count": null,
   "metadata": {
    "colab": {
     "base_uri": "https://localhost:8080/"
    },
    "id": "eMtuj4IKpqOq",
    "outputId": "c0e416aa-d346-4e68-8530-b85e523fc03d"
   },
   "outputs": [
    {
     "name": "stdout",
     "output_type": "stream",
     "text": [
      "<class 'numpy.ndarray'>\n",
      "11.0\n",
      "0.0\n",
      "3.0542857142857143\n",
      "7.93705306122449\n"
     ]
    }
   ],
   "source": [
    "print(type(Time_matrix))\n",
    "print(Time_matrix.max())\n",
    "print(Time_matrix.min())\n",
    "print(Time_matrix.mean())\n",
    "print(Time_matrix.var())"
   ]
  },
  {
   "cell_type": "markdown",
   "metadata": {
    "id": "PhGy9H99pv_F"
   },
   "source": [
    "**Observation**\n",
    "- The time matrix is 4 dimensional - start_location, end_location, hour of day, day of the week\n",
    "-  The max time taken between 2 consequtive points is 11 hours, time can increase by a day"
   ]
  },
  {
   "cell_type": "markdown",
   "metadata": {
    "id": "8Q7Z5qeyo8JH"
   },
   "source": [
    "## 2.  Defining the MDP Environment"
   ]
  },
  {
   "cell_type": "code",
   "execution_count": null,
   "metadata": {
    "id": "GBtSQfX8_RpP"
   },
   "outputs": [],
   "source": [
    "env = CabDriver()\n",
    "action_space, state_space, state = env.reset()"
   ]
  },
  {
   "cell_type": "code",
   "execution_count": null,
   "metadata": {
    "colab": {
     "base_uri": "https://localhost:8080/"
    },
    "id": "X8RrUzWHqdtb",
    "outputId": "f35324ab-34da-4b58-effe-557bc9ea7d1c"
   },
   "outputs": [
    {
     "data": {
      "text/plain": [
       "[(0, 0),\n",
       " (0, 1),\n",
       " (0, 2),\n",
       " (0, 3),\n",
       " (0, 4),\n",
       " (1, 0),\n",
       " (1, 2),\n",
       " (1, 3),\n",
       " (1, 4),\n",
       " (2, 0),\n",
       " (2, 1),\n",
       " (2, 3),\n",
       " (2, 4),\n",
       " (3, 0),\n",
       " (3, 1),\n",
       " (3, 2),\n",
       " (3, 4),\n",
       " (4, 0),\n",
       " (4, 1),\n",
       " (4, 2),\n",
       " (4, 3)]"
      ]
     },
     "execution_count": 10,
     "metadata": {},
     "output_type": "execute_result"
    }
   ],
   "source": [
    "action_space"
   ]
  },
  {
   "cell_type": "code",
   "execution_count": null,
   "metadata": {
    "colab": {
     "base_uri": "https://localhost:8080/"
    },
    "id": "Uttv6YL5qj3w",
    "outputId": "f5be70f8-51bd-4df6-861f-bb2629dbaad1"
   },
   "outputs": [
    {
     "data": {
      "text/plain": [
       "[[0, 0, 0],\n",
       " [0, 0, 1],\n",
       " [0, 0, 2],\n",
       " [0, 0, 3],\n",
       " [0, 0, 4],\n",
       " [0, 0, 5],\n",
       " [0, 0, 6],\n",
       " [0, 1, 0],\n",
       " [0, 1, 1],\n",
       " [0, 1, 2],\n",
       " [0, 1, 3],\n",
       " [0, 1, 4],\n",
       " [0, 1, 5],\n",
       " [0, 1, 6],\n",
       " [0, 2, 0],\n",
       " [0, 2, 1],\n",
       " [0, 2, 2],\n",
       " [0, 2, 3],\n",
       " [0, 2, 4],\n",
       " [0, 2, 5],\n",
       " [0, 2, 6],\n",
       " [0, 3, 0],\n",
       " [0, 3, 1],\n",
       " [0, 3, 2],\n",
       " [0, 3, 3],\n",
       " [0, 3, 4],\n",
       " [0, 3, 5],\n",
       " [0, 3, 6],\n",
       " [0, 4, 0],\n",
       " [0, 4, 1],\n",
       " [0, 4, 2],\n",
       " [0, 4, 3],\n",
       " [0, 4, 4],\n",
       " [0, 4, 5],\n",
       " [0, 4, 6],\n",
       " [0, 5, 0],\n",
       " [0, 5, 1],\n",
       " [0, 5, 2],\n",
       " [0, 5, 3],\n",
       " [0, 5, 4],\n",
       " [0, 5, 5],\n",
       " [0, 5, 6],\n",
       " [0, 6, 0],\n",
       " [0, 6, 1],\n",
       " [0, 6, 2],\n",
       " [0, 6, 3],\n",
       " [0, 6, 4],\n",
       " [0, 6, 5],\n",
       " [0, 6, 6],\n",
       " [0, 7, 0],\n",
       " [0, 7, 1],\n",
       " [0, 7, 2],\n",
       " [0, 7, 3],\n",
       " [0, 7, 4],\n",
       " [0, 7, 5],\n",
       " [0, 7, 6],\n",
       " [0, 8, 0],\n",
       " [0, 8, 1],\n",
       " [0, 8, 2],\n",
       " [0, 8, 3],\n",
       " [0, 8, 4],\n",
       " [0, 8, 5],\n",
       " [0, 8, 6],\n",
       " [0, 9, 0],\n",
       " [0, 9, 1],\n",
       " [0, 9, 2],\n",
       " [0, 9, 3],\n",
       " [0, 9, 4],\n",
       " [0, 9, 5],\n",
       " [0, 9, 6],\n",
       " [0, 10, 0],\n",
       " [0, 10, 1],\n",
       " [0, 10, 2],\n",
       " [0, 10, 3],\n",
       " [0, 10, 4],\n",
       " [0, 10, 5],\n",
       " [0, 10, 6],\n",
       " [0, 11, 0],\n",
       " [0, 11, 1],\n",
       " [0, 11, 2],\n",
       " [0, 11, 3],\n",
       " [0, 11, 4],\n",
       " [0, 11, 5],\n",
       " [0, 11, 6],\n",
       " [0, 12, 0],\n",
       " [0, 12, 1],\n",
       " [0, 12, 2],\n",
       " [0, 12, 3],\n",
       " [0, 12, 4],\n",
       " [0, 12, 5],\n",
       " [0, 12, 6],\n",
       " [0, 13, 0],\n",
       " [0, 13, 1],\n",
       " [0, 13, 2],\n",
       " [0, 13, 3],\n",
       " [0, 13, 4],\n",
       " [0, 13, 5],\n",
       " [0, 13, 6],\n",
       " [0, 14, 0],\n",
       " [0, 14, 1],\n",
       " [0, 14, 2],\n",
       " [0, 14, 3],\n",
       " [0, 14, 4],\n",
       " [0, 14, 5],\n",
       " [0, 14, 6],\n",
       " [0, 15, 0],\n",
       " [0, 15, 1],\n",
       " [0, 15, 2],\n",
       " [0, 15, 3],\n",
       " [0, 15, 4],\n",
       " [0, 15, 5],\n",
       " [0, 15, 6],\n",
       " [0, 16, 0],\n",
       " [0, 16, 1],\n",
       " [0, 16, 2],\n",
       " [0, 16, 3],\n",
       " [0, 16, 4],\n",
       " [0, 16, 5],\n",
       " [0, 16, 6],\n",
       " [0, 17, 0],\n",
       " [0, 17, 1],\n",
       " [0, 17, 2],\n",
       " [0, 17, 3],\n",
       " [0, 17, 4],\n",
       " [0, 17, 5],\n",
       " [0, 17, 6],\n",
       " [0, 18, 0],\n",
       " [0, 18, 1],\n",
       " [0, 18, 2],\n",
       " [0, 18, 3],\n",
       " [0, 18, 4],\n",
       " [0, 18, 5],\n",
       " [0, 18, 6],\n",
       " [0, 19, 0],\n",
       " [0, 19, 1],\n",
       " [0, 19, 2],\n",
       " [0, 19, 3],\n",
       " [0, 19, 4],\n",
       " [0, 19, 5],\n",
       " [0, 19, 6],\n",
       " [0, 20, 0],\n",
       " [0, 20, 1],\n",
       " [0, 20, 2],\n",
       " [0, 20, 3],\n",
       " [0, 20, 4],\n",
       " [0, 20, 5],\n",
       " [0, 20, 6],\n",
       " [0, 21, 0],\n",
       " [0, 21, 1],\n",
       " [0, 21, 2],\n",
       " [0, 21, 3],\n",
       " [0, 21, 4],\n",
       " [0, 21, 5],\n",
       " [0, 21, 6],\n",
       " [0, 22, 0],\n",
       " [0, 22, 1],\n",
       " [0, 22, 2],\n",
       " [0, 22, 3],\n",
       " [0, 22, 4],\n",
       " [0, 22, 5],\n",
       " [0, 22, 6],\n",
       " [0, 23, 0],\n",
       " [0, 23, 1],\n",
       " [0, 23, 2],\n",
       " [0, 23, 3],\n",
       " [0, 23, 4],\n",
       " [0, 23, 5],\n",
       " [0, 23, 6],\n",
       " [1, 0, 0],\n",
       " [1, 0, 1],\n",
       " [1, 0, 2],\n",
       " [1, 0, 3],\n",
       " [1, 0, 4],\n",
       " [1, 0, 5],\n",
       " [1, 0, 6],\n",
       " [1, 1, 0],\n",
       " [1, 1, 1],\n",
       " [1, 1, 2],\n",
       " [1, 1, 3],\n",
       " [1, 1, 4],\n",
       " [1, 1, 5],\n",
       " [1, 1, 6],\n",
       " [1, 2, 0],\n",
       " [1, 2, 1],\n",
       " [1, 2, 2],\n",
       " [1, 2, 3],\n",
       " [1, 2, 4],\n",
       " [1, 2, 5],\n",
       " [1, 2, 6],\n",
       " [1, 3, 0],\n",
       " [1, 3, 1],\n",
       " [1, 3, 2],\n",
       " [1, 3, 3],\n",
       " [1, 3, 4],\n",
       " [1, 3, 5],\n",
       " [1, 3, 6],\n",
       " [1, 4, 0],\n",
       " [1, 4, 1],\n",
       " [1, 4, 2],\n",
       " [1, 4, 3],\n",
       " [1, 4, 4],\n",
       " [1, 4, 5],\n",
       " [1, 4, 6],\n",
       " [1, 5, 0],\n",
       " [1, 5, 1],\n",
       " [1, 5, 2],\n",
       " [1, 5, 3],\n",
       " [1, 5, 4],\n",
       " [1, 5, 5],\n",
       " [1, 5, 6],\n",
       " [1, 6, 0],\n",
       " [1, 6, 1],\n",
       " [1, 6, 2],\n",
       " [1, 6, 3],\n",
       " [1, 6, 4],\n",
       " [1, 6, 5],\n",
       " [1, 6, 6],\n",
       " [1, 7, 0],\n",
       " [1, 7, 1],\n",
       " [1, 7, 2],\n",
       " [1, 7, 3],\n",
       " [1, 7, 4],\n",
       " [1, 7, 5],\n",
       " [1, 7, 6],\n",
       " [1, 8, 0],\n",
       " [1, 8, 1],\n",
       " [1, 8, 2],\n",
       " [1, 8, 3],\n",
       " [1, 8, 4],\n",
       " [1, 8, 5],\n",
       " [1, 8, 6],\n",
       " [1, 9, 0],\n",
       " [1, 9, 1],\n",
       " [1, 9, 2],\n",
       " [1, 9, 3],\n",
       " [1, 9, 4],\n",
       " [1, 9, 5],\n",
       " [1, 9, 6],\n",
       " [1, 10, 0],\n",
       " [1, 10, 1],\n",
       " [1, 10, 2],\n",
       " [1, 10, 3],\n",
       " [1, 10, 4],\n",
       " [1, 10, 5],\n",
       " [1, 10, 6],\n",
       " [1, 11, 0],\n",
       " [1, 11, 1],\n",
       " [1, 11, 2],\n",
       " [1, 11, 3],\n",
       " [1, 11, 4],\n",
       " [1, 11, 5],\n",
       " [1, 11, 6],\n",
       " [1, 12, 0],\n",
       " [1, 12, 1],\n",
       " [1, 12, 2],\n",
       " [1, 12, 3],\n",
       " [1, 12, 4],\n",
       " [1, 12, 5],\n",
       " [1, 12, 6],\n",
       " [1, 13, 0],\n",
       " [1, 13, 1],\n",
       " [1, 13, 2],\n",
       " [1, 13, 3],\n",
       " [1, 13, 4],\n",
       " [1, 13, 5],\n",
       " [1, 13, 6],\n",
       " [1, 14, 0],\n",
       " [1, 14, 1],\n",
       " [1, 14, 2],\n",
       " [1, 14, 3],\n",
       " [1, 14, 4],\n",
       " [1, 14, 5],\n",
       " [1, 14, 6],\n",
       " [1, 15, 0],\n",
       " [1, 15, 1],\n",
       " [1, 15, 2],\n",
       " [1, 15, 3],\n",
       " [1, 15, 4],\n",
       " [1, 15, 5],\n",
       " [1, 15, 6],\n",
       " [1, 16, 0],\n",
       " [1, 16, 1],\n",
       " [1, 16, 2],\n",
       " [1, 16, 3],\n",
       " [1, 16, 4],\n",
       " [1, 16, 5],\n",
       " [1, 16, 6],\n",
       " [1, 17, 0],\n",
       " [1, 17, 1],\n",
       " [1, 17, 2],\n",
       " [1, 17, 3],\n",
       " [1, 17, 4],\n",
       " [1, 17, 5],\n",
       " [1, 17, 6],\n",
       " [1, 18, 0],\n",
       " [1, 18, 1],\n",
       " [1, 18, 2],\n",
       " [1, 18, 3],\n",
       " [1, 18, 4],\n",
       " [1, 18, 5],\n",
       " [1, 18, 6],\n",
       " [1, 19, 0],\n",
       " [1, 19, 1],\n",
       " [1, 19, 2],\n",
       " [1, 19, 3],\n",
       " [1, 19, 4],\n",
       " [1, 19, 5],\n",
       " [1, 19, 6],\n",
       " [1, 20, 0],\n",
       " [1, 20, 1],\n",
       " [1, 20, 2],\n",
       " [1, 20, 3],\n",
       " [1, 20, 4],\n",
       " [1, 20, 5],\n",
       " [1, 20, 6],\n",
       " [1, 21, 0],\n",
       " [1, 21, 1],\n",
       " [1, 21, 2],\n",
       " [1, 21, 3],\n",
       " [1, 21, 4],\n",
       " [1, 21, 5],\n",
       " [1, 21, 6],\n",
       " [1, 22, 0],\n",
       " [1, 22, 1],\n",
       " [1, 22, 2],\n",
       " [1, 22, 3],\n",
       " [1, 22, 4],\n",
       " [1, 22, 5],\n",
       " [1, 22, 6],\n",
       " [1, 23, 0],\n",
       " [1, 23, 1],\n",
       " [1, 23, 2],\n",
       " [1, 23, 3],\n",
       " [1, 23, 4],\n",
       " [1, 23, 5],\n",
       " [1, 23, 6],\n",
       " [2, 0, 0],\n",
       " [2, 0, 1],\n",
       " [2, 0, 2],\n",
       " [2, 0, 3],\n",
       " [2, 0, 4],\n",
       " [2, 0, 5],\n",
       " [2, 0, 6],\n",
       " [2, 1, 0],\n",
       " [2, 1, 1],\n",
       " [2, 1, 2],\n",
       " [2, 1, 3],\n",
       " [2, 1, 4],\n",
       " [2, 1, 5],\n",
       " [2, 1, 6],\n",
       " [2, 2, 0],\n",
       " [2, 2, 1],\n",
       " [2, 2, 2],\n",
       " [2, 2, 3],\n",
       " [2, 2, 4],\n",
       " [2, 2, 5],\n",
       " [2, 2, 6],\n",
       " [2, 3, 0],\n",
       " [2, 3, 1],\n",
       " [2, 3, 2],\n",
       " [2, 3, 3],\n",
       " [2, 3, 4],\n",
       " [2, 3, 5],\n",
       " [2, 3, 6],\n",
       " [2, 4, 0],\n",
       " [2, 4, 1],\n",
       " [2, 4, 2],\n",
       " [2, 4, 3],\n",
       " [2, 4, 4],\n",
       " [2, 4, 5],\n",
       " [2, 4, 6],\n",
       " [2, 5, 0],\n",
       " [2, 5, 1],\n",
       " [2, 5, 2],\n",
       " [2, 5, 3],\n",
       " [2, 5, 4],\n",
       " [2, 5, 5],\n",
       " [2, 5, 6],\n",
       " [2, 6, 0],\n",
       " [2, 6, 1],\n",
       " [2, 6, 2],\n",
       " [2, 6, 3],\n",
       " [2, 6, 4],\n",
       " [2, 6, 5],\n",
       " [2, 6, 6],\n",
       " [2, 7, 0],\n",
       " [2, 7, 1],\n",
       " [2, 7, 2],\n",
       " [2, 7, 3],\n",
       " [2, 7, 4],\n",
       " [2, 7, 5],\n",
       " [2, 7, 6],\n",
       " [2, 8, 0],\n",
       " [2, 8, 1],\n",
       " [2, 8, 2],\n",
       " [2, 8, 3],\n",
       " [2, 8, 4],\n",
       " [2, 8, 5],\n",
       " [2, 8, 6],\n",
       " [2, 9, 0],\n",
       " [2, 9, 1],\n",
       " [2, 9, 2],\n",
       " [2, 9, 3],\n",
       " [2, 9, 4],\n",
       " [2, 9, 5],\n",
       " [2, 9, 6],\n",
       " [2, 10, 0],\n",
       " [2, 10, 1],\n",
       " [2, 10, 2],\n",
       " [2, 10, 3],\n",
       " [2, 10, 4],\n",
       " [2, 10, 5],\n",
       " [2, 10, 6],\n",
       " [2, 11, 0],\n",
       " [2, 11, 1],\n",
       " [2, 11, 2],\n",
       " [2, 11, 3],\n",
       " [2, 11, 4],\n",
       " [2, 11, 5],\n",
       " [2, 11, 6],\n",
       " [2, 12, 0],\n",
       " [2, 12, 1],\n",
       " [2, 12, 2],\n",
       " [2, 12, 3],\n",
       " [2, 12, 4],\n",
       " [2, 12, 5],\n",
       " [2, 12, 6],\n",
       " [2, 13, 0],\n",
       " [2, 13, 1],\n",
       " [2, 13, 2],\n",
       " [2, 13, 3],\n",
       " [2, 13, 4],\n",
       " [2, 13, 5],\n",
       " [2, 13, 6],\n",
       " [2, 14, 0],\n",
       " [2, 14, 1],\n",
       " [2, 14, 2],\n",
       " [2, 14, 3],\n",
       " [2, 14, 4],\n",
       " [2, 14, 5],\n",
       " [2, 14, 6],\n",
       " [2, 15, 0],\n",
       " [2, 15, 1],\n",
       " [2, 15, 2],\n",
       " [2, 15, 3],\n",
       " [2, 15, 4],\n",
       " [2, 15, 5],\n",
       " [2, 15, 6],\n",
       " [2, 16, 0],\n",
       " [2, 16, 1],\n",
       " [2, 16, 2],\n",
       " [2, 16, 3],\n",
       " [2, 16, 4],\n",
       " [2, 16, 5],\n",
       " [2, 16, 6],\n",
       " [2, 17, 0],\n",
       " [2, 17, 1],\n",
       " [2, 17, 2],\n",
       " [2, 17, 3],\n",
       " [2, 17, 4],\n",
       " [2, 17, 5],\n",
       " [2, 17, 6],\n",
       " [2, 18, 0],\n",
       " [2, 18, 1],\n",
       " [2, 18, 2],\n",
       " [2, 18, 3],\n",
       " [2, 18, 4],\n",
       " [2, 18, 5],\n",
       " [2, 18, 6],\n",
       " [2, 19, 0],\n",
       " [2, 19, 1],\n",
       " [2, 19, 2],\n",
       " [2, 19, 3],\n",
       " [2, 19, 4],\n",
       " [2, 19, 5],\n",
       " [2, 19, 6],\n",
       " [2, 20, 0],\n",
       " [2, 20, 1],\n",
       " [2, 20, 2],\n",
       " [2, 20, 3],\n",
       " [2, 20, 4],\n",
       " [2, 20, 5],\n",
       " [2, 20, 6],\n",
       " [2, 21, 0],\n",
       " [2, 21, 1],\n",
       " [2, 21, 2],\n",
       " [2, 21, 3],\n",
       " [2, 21, 4],\n",
       " [2, 21, 5],\n",
       " [2, 21, 6],\n",
       " [2, 22, 0],\n",
       " [2, 22, 1],\n",
       " [2, 22, 2],\n",
       " [2, 22, 3],\n",
       " [2, 22, 4],\n",
       " [2, 22, 5],\n",
       " [2, 22, 6],\n",
       " [2, 23, 0],\n",
       " [2, 23, 1],\n",
       " [2, 23, 2],\n",
       " [2, 23, 3],\n",
       " [2, 23, 4],\n",
       " [2, 23, 5],\n",
       " [2, 23, 6],\n",
       " [3, 0, 0],\n",
       " [3, 0, 1],\n",
       " [3, 0, 2],\n",
       " [3, 0, 3],\n",
       " [3, 0, 4],\n",
       " [3, 0, 5],\n",
       " [3, 0, 6],\n",
       " [3, 1, 0],\n",
       " [3, 1, 1],\n",
       " [3, 1, 2],\n",
       " [3, 1, 3],\n",
       " [3, 1, 4],\n",
       " [3, 1, 5],\n",
       " [3, 1, 6],\n",
       " [3, 2, 0],\n",
       " [3, 2, 1],\n",
       " [3, 2, 2],\n",
       " [3, 2, 3],\n",
       " [3, 2, 4],\n",
       " [3, 2, 5],\n",
       " [3, 2, 6],\n",
       " [3, 3, 0],\n",
       " [3, 3, 1],\n",
       " [3, 3, 2],\n",
       " [3, 3, 3],\n",
       " [3, 3, 4],\n",
       " [3, 3, 5],\n",
       " [3, 3, 6],\n",
       " [3, 4, 0],\n",
       " [3, 4, 1],\n",
       " [3, 4, 2],\n",
       " [3, 4, 3],\n",
       " [3, 4, 4],\n",
       " [3, 4, 5],\n",
       " [3, 4, 6],\n",
       " [3, 5, 0],\n",
       " [3, 5, 1],\n",
       " [3, 5, 2],\n",
       " [3, 5, 3],\n",
       " [3, 5, 4],\n",
       " [3, 5, 5],\n",
       " [3, 5, 6],\n",
       " [3, 6, 0],\n",
       " [3, 6, 1],\n",
       " [3, 6, 2],\n",
       " [3, 6, 3],\n",
       " [3, 6, 4],\n",
       " [3, 6, 5],\n",
       " [3, 6, 6],\n",
       " [3, 7, 0],\n",
       " [3, 7, 1],\n",
       " [3, 7, 2],\n",
       " [3, 7, 3],\n",
       " [3, 7, 4],\n",
       " [3, 7, 5],\n",
       " [3, 7, 6],\n",
       " [3, 8, 0],\n",
       " [3, 8, 1],\n",
       " [3, 8, 2],\n",
       " [3, 8, 3],\n",
       " [3, 8, 4],\n",
       " [3, 8, 5],\n",
       " [3, 8, 6],\n",
       " [3, 9, 0],\n",
       " [3, 9, 1],\n",
       " [3, 9, 2],\n",
       " [3, 9, 3],\n",
       " [3, 9, 4],\n",
       " [3, 9, 5],\n",
       " [3, 9, 6],\n",
       " [3, 10, 0],\n",
       " [3, 10, 1],\n",
       " [3, 10, 2],\n",
       " [3, 10, 3],\n",
       " [3, 10, 4],\n",
       " [3, 10, 5],\n",
       " [3, 10, 6],\n",
       " [3, 11, 0],\n",
       " [3, 11, 1],\n",
       " [3, 11, 2],\n",
       " [3, 11, 3],\n",
       " [3, 11, 4],\n",
       " [3, 11, 5],\n",
       " [3, 11, 6],\n",
       " [3, 12, 0],\n",
       " [3, 12, 1],\n",
       " [3, 12, 2],\n",
       " [3, 12, 3],\n",
       " [3, 12, 4],\n",
       " [3, 12, 5],\n",
       " [3, 12, 6],\n",
       " [3, 13, 0],\n",
       " [3, 13, 1],\n",
       " [3, 13, 2],\n",
       " [3, 13, 3],\n",
       " [3, 13, 4],\n",
       " [3, 13, 5],\n",
       " [3, 13, 6],\n",
       " [3, 14, 0],\n",
       " [3, 14, 1],\n",
       " [3, 14, 2],\n",
       " [3, 14, 3],\n",
       " [3, 14, 4],\n",
       " [3, 14, 5],\n",
       " [3, 14, 6],\n",
       " [3, 15, 0],\n",
       " [3, 15, 1],\n",
       " [3, 15, 2],\n",
       " [3, 15, 3],\n",
       " [3, 15, 4],\n",
       " [3, 15, 5],\n",
       " [3, 15, 6],\n",
       " [3, 16, 0],\n",
       " [3, 16, 1],\n",
       " [3, 16, 2],\n",
       " [3, 16, 3],\n",
       " [3, 16, 4],\n",
       " [3, 16, 5],\n",
       " [3, 16, 6],\n",
       " [3, 17, 0],\n",
       " [3, 17, 1],\n",
       " [3, 17, 2],\n",
       " [3, 17, 3],\n",
       " [3, 17, 4],\n",
       " [3, 17, 5],\n",
       " [3, 17, 6],\n",
       " [3, 18, 0],\n",
       " [3, 18, 1],\n",
       " [3, 18, 2],\n",
       " [3, 18, 3],\n",
       " [3, 18, 4],\n",
       " [3, 18, 5],\n",
       " [3, 18, 6],\n",
       " [3, 19, 0],\n",
       " [3, 19, 1],\n",
       " [3, 19, 2],\n",
       " [3, 19, 3],\n",
       " [3, 19, 4],\n",
       " [3, 19, 5],\n",
       " [3, 19, 6],\n",
       " [3, 20, 0],\n",
       " [3, 20, 1],\n",
       " [3, 20, 2],\n",
       " [3, 20, 3],\n",
       " [3, 20, 4],\n",
       " [3, 20, 5],\n",
       " [3, 20, 6],\n",
       " [3, 21, 0],\n",
       " [3, 21, 1],\n",
       " [3, 21, 2],\n",
       " [3, 21, 3],\n",
       " [3, 21, 4],\n",
       " [3, 21, 5],\n",
       " [3, 21, 6],\n",
       " [3, 22, 0],\n",
       " [3, 22, 1],\n",
       " [3, 22, 2],\n",
       " [3, 22, 3],\n",
       " [3, 22, 4],\n",
       " [3, 22, 5],\n",
       " [3, 22, 6],\n",
       " [3, 23, 0],\n",
       " [3, 23, 1],\n",
       " [3, 23, 2],\n",
       " [3, 23, 3],\n",
       " [3, 23, 4],\n",
       " [3, 23, 5],\n",
       " [3, 23, 6],\n",
       " [4, 0, 0],\n",
       " [4, 0, 1],\n",
       " [4, 0, 2],\n",
       " [4, 0, 3],\n",
       " [4, 0, 4],\n",
       " [4, 0, 5],\n",
       " [4, 0, 6],\n",
       " [4, 1, 0],\n",
       " [4, 1, 1],\n",
       " [4, 1, 2],\n",
       " [4, 1, 3],\n",
       " [4, 1, 4],\n",
       " [4, 1, 5],\n",
       " [4, 1, 6],\n",
       " [4, 2, 0],\n",
       " [4, 2, 1],\n",
       " [4, 2, 2],\n",
       " [4, 2, 3],\n",
       " [4, 2, 4],\n",
       " [4, 2, 5],\n",
       " [4, 2, 6],\n",
       " [4, 3, 0],\n",
       " [4, 3, 1],\n",
       " [4, 3, 2],\n",
       " [4, 3, 3],\n",
       " [4, 3, 4],\n",
       " [4, 3, 5],\n",
       " [4, 3, 6],\n",
       " [4, 4, 0],\n",
       " [4, 4, 1],\n",
       " [4, 4, 2],\n",
       " [4, 4, 3],\n",
       " [4, 4, 4],\n",
       " [4, 4, 5],\n",
       " [4, 4, 6],\n",
       " [4, 5, 0],\n",
       " [4, 5, 1],\n",
       " [4, 5, 2],\n",
       " [4, 5, 3],\n",
       " [4, 5, 4],\n",
       " [4, 5, 5],\n",
       " [4, 5, 6],\n",
       " [4, 6, 0],\n",
       " [4, 6, 1],\n",
       " [4, 6, 2],\n",
       " [4, 6, 3],\n",
       " [4, 6, 4],\n",
       " [4, 6, 5],\n",
       " [4, 6, 6],\n",
       " [4, 7, 0],\n",
       " [4, 7, 1],\n",
       " [4, 7, 2],\n",
       " [4, 7, 3],\n",
       " [4, 7, 4],\n",
       " [4, 7, 5],\n",
       " [4, 7, 6],\n",
       " [4, 8, 0],\n",
       " [4, 8, 1],\n",
       " [4, 8, 2],\n",
       " [4, 8, 3],\n",
       " [4, 8, 4],\n",
       " [4, 8, 5],\n",
       " [4, 8, 6],\n",
       " [4, 9, 0],\n",
       " [4, 9, 1],\n",
       " [4, 9, 2],\n",
       " [4, 9, 3],\n",
       " [4, 9, 4],\n",
       " [4, 9, 5],\n",
       " [4, 9, 6],\n",
       " [4, 10, 0],\n",
       " [4, 10, 1],\n",
       " [4, 10, 2],\n",
       " [4, 10, 3],\n",
       " [4, 10, 4],\n",
       " [4, 10, 5],\n",
       " [4, 10, 6],\n",
       " [4, 11, 0],\n",
       " [4, 11, 1],\n",
       " [4, 11, 2],\n",
       " [4, 11, 3],\n",
       " [4, 11, 4],\n",
       " [4, 11, 5],\n",
       " [4, 11, 6],\n",
       " [4, 12, 0],\n",
       " [4, 12, 1],\n",
       " [4, 12, 2],\n",
       " [4, 12, 3],\n",
       " [4, 12, 4],\n",
       " [4, 12, 5],\n",
       " [4, 12, 6],\n",
       " [4, 13, 0],\n",
       " [4, 13, 1],\n",
       " [4, 13, 2],\n",
       " [4, 13, 3],\n",
       " [4, 13, 4],\n",
       " [4, 13, 5],\n",
       " [4, 13, 6],\n",
       " [4, 14, 0],\n",
       " [4, 14, 1],\n",
       " [4, 14, 2],\n",
       " [4, 14, 3],\n",
       " [4, 14, 4],\n",
       " [4, 14, 5],\n",
       " [4, 14, 6],\n",
       " [4, 15, 0],\n",
       " [4, 15, 1],\n",
       " [4, 15, 2],\n",
       " [4, 15, 3],\n",
       " [4, 15, 4],\n",
       " [4, 15, 5],\n",
       " [4, 15, 6],\n",
       " [4, 16, 0],\n",
       " [4, 16, 1],\n",
       " [4, 16, 2],\n",
       " [4, 16, 3],\n",
       " [4, 16, 4],\n",
       " [4, 16, 5],\n",
       " [4, 16, 6],\n",
       " [4, 17, 0],\n",
       " [4, 17, 1],\n",
       " [4, 17, 2],\n",
       " [4, 17, 3],\n",
       " [4, 17, 4],\n",
       " [4, 17, 5],\n",
       " [4, 17, 6],\n",
       " [4, 18, 0],\n",
       " [4, 18, 1],\n",
       " [4, 18, 2],\n",
       " [4, 18, 3],\n",
       " [4, 18, 4],\n",
       " [4, 18, 5],\n",
       " [4, 18, 6],\n",
       " [4, 19, 0],\n",
       " [4, 19, 1],\n",
       " [4, 19, 2],\n",
       " [4, 19, 3],\n",
       " [4, 19, 4],\n",
       " [4, 19, 5],\n",
       " [4, 19, 6],\n",
       " [4, 20, 0],\n",
       " [4, 20, 1],\n",
       " [4, 20, 2],\n",
       " [4, 20, 3],\n",
       " [4, 20, 4],\n",
       " [4, 20, 5],\n",
       " [4, 20, 6],\n",
       " [4, 21, 0],\n",
       " [4, 21, 1],\n",
       " [4, 21, 2],\n",
       " [4, 21, 3],\n",
       " [4, 21, 4],\n",
       " [4, 21, 5],\n",
       " [4, 21, 6],\n",
       " [4, 22, 0],\n",
       " [4, 22, 1],\n",
       " [4, 22, 2],\n",
       " [4, 22, 3],\n",
       " [4, 22, 4],\n",
       " [4, 22, 5],\n",
       " [4, 22, 6],\n",
       " [4, 23, 0],\n",
       " [4, 23, 1],\n",
       " [4, 23, 2],\n",
       " [4, 23, 3],\n",
       " [4, 23, 4],\n",
       " [4, 23, 5],\n",
       " [4, 23, 6]]"
      ]
     },
     "execution_count": 11,
     "metadata": {},
     "output_type": "execute_result"
    }
   ],
   "source": [
    "state_space"
   ]
  },
  {
   "cell_type": "markdown",
   "metadata": {
    "id": "SCYKeFe3euCl"
   },
   "source": [
    "**Observation**\n",
    "- The state spaces are correctly initialized into a Vector [State, Day, Hour]"
   ]
  },
  {
   "cell_type": "code",
   "execution_count": null,
   "metadata": {
    "colab": {
     "base_uri": "https://localhost:8080/"
    },
    "id": "VOoqne96wBt2",
    "outputId": "e24da529-5697-4781-eadc-c2d503770bf1"
   },
   "outputs": [
    {
     "name": "stdout",
     "output_type": "stream",
     "text": [
      "The randomly initialized state is [4, 3, 2]\n"
     ]
    }
   ],
   "source": [
    "print (\"The randomly initialized state is {}\".format(state))"
   ]
  },
  {
   "cell_type": "code",
   "execution_count": null,
   "metadata": {
    "colab": {
     "base_uri": "https://localhost:8080/"
    },
    "id": "PiTfN8kUZf-M",
    "outputId": "d8fe5c31-220c-424a-b384-97ca0b1b082d"
   },
   "outputs": [
    {
     "data": {
      "text/plain": [
       "([2, 3, 13, 12, 0], [(0, 2), (0, 3), (3, 0), (2, 4), (0, 0)])"
      ]
     },
     "execution_count": 13,
     "metadata": {},
     "output_type": "execute_result"
    }
   ],
   "source": [
    "#env.self_state_init_for_test([0,17,5])\n",
    "env.requests(state)"
   ]
  },
  {
   "cell_type": "markdown",
   "metadata": {
    "id": "xSWwIKn9auR_"
   },
   "source": [
    "**Observation** \n",
    "- Returns the correct randomised action, and corresponding index, based on the traffic (Poisson Random Variable) for the location"
   ]
  },
  {
   "cell_type": "code",
   "execution_count": null,
   "metadata": {
    "colab": {
     "base_uri": "https://localhost:8080/"
    },
    "id": "Ot5j7mjFb3R_",
    "outputId": "c1f967a2-a59f-4f5c-f041-a8aa96de7dcf"
   },
   "outputs": [
    {
     "data": {
      "text/plain": [
       "6.0"
      ]
     },
     "execution_count": 14,
     "metadata": {},
     "output_type": "execute_result"
    }
   ],
   "source": [
    "Time_matrix[4,3,17,5]"
   ]
  },
  {
   "cell_type": "code",
   "execution_count": null,
   "metadata": {
    "colab": {
     "base_uri": "https://localhost:8080/"
    },
    "id": "m5qqt3F8a8rQ",
    "outputId": "4ac6b7fa-e8a3-43c7-9adb-c1c75852dc35"
   },
   "outputs": [
    {
     "data": {
      "text/plain": [
       "([3, 4, 2], 0, 0, 1.0)"
      ]
     },
     "execution_count": 15,
     "metadata": {},
     "output_type": "execute_result"
    }
   ],
   "source": [
    "env.next_state_func(state,[4,3],Time_matrix)"
   ]
  },
  {
   "cell_type": "code",
   "execution_count": null,
   "metadata": {
    "colab": {
     "base_uri": "https://localhost:8080/"
    },
    "id": "6t_UVniMdkAc",
    "outputId": "2e0944f8-a922-454d-f090-eaa6c5f9f871"
   },
   "outputs": [
    {
     "data": {
      "text/plain": [
       "[1,\n",
       " 0,\n",
       " 0,\n",
       " 0,\n",
       " 0,\n",
       " 0,\n",
       " 1,\n",
       " 0,\n",
       " 0,\n",
       " 0,\n",
       " 0,\n",
       " 0,\n",
       " 0,\n",
       " 0,\n",
       " 0,\n",
       " 0,\n",
       " 0,\n",
       " 0,\n",
       " 0,\n",
       " 0,\n",
       " 0,\n",
       " 0,\n",
       " 0,\n",
       " 0,\n",
       " 0,\n",
       " 0,\n",
       " 0,\n",
       " 0,\n",
       " 0,\n",
       " 0,\n",
       " 0,\n",
       " 1,\n",
       " 0,\n",
       " 0,\n",
       " 0,\n",
       " 0]"
      ]
     },
     "execution_count": 16,
     "metadata": {},
     "output_type": "execute_result"
    }
   ],
   "source": [
    "state = [0,1,2]\n",
    "env.state_encod_arch1(state)"
   ]
  },
  {
   "cell_type": "markdown",
   "metadata": {
    "id": "QLAVKw5xsRUf"
   },
   "source": [
    "**Observation** \n",
    "- The universal state space and action space look properly initialized\n",
    "- The current state is randomly initialized\n",
    "- The request function returns random states based on Traffic\n",
    "- The next state is being generated, and encoded correctly"
   ]
  },
  {
   "cell_type": "markdown",
   "metadata": {
    "id": "5gGOpuFpuzma"
   },
   "source": [
    "#### 2.1. Utilties"
   ]
  },
  {
   "cell_type": "code",
   "execution_count": null,
   "metadata": {
    "id": "aqFU_I7JZb1C"
   },
   "outputs": [],
   "source": [
    "#Defining a function to save the Q-dictionary as a pickle file\n",
    "def save_obj(obj, name ):\n",
    "    with open(name + '.pkl', 'wb') as f:\n",
    "        pickle.dump(obj, f, pickle.HIGHEST_PROTOCOL)"
   ]
  },
  {
   "cell_type": "markdown",
   "metadata": {
    "id": "kmkNSWzaZb1B"
   },
   "source": [
    "\n",
    "##### Epsilon- Greedy strategy\n",
    "\n",
    "Way of selecting random actions with uniform distribution.\n",
    "We can either select random action with epsilon probability or\n",
    "We can select an action with 1-epsilon probably which will give maximum reward in a given state\n",
    "\n",
    "Check epsilon decay over episodes"
   ]
  },
  {
   "cell_type": "code",
   "execution_count": null,
   "metadata": {
    "colab": {
     "base_uri": "https://localhost:8080/",
     "height": 265
    },
    "id": "G6r_ZZhZZb1B",
    "outputId": "2cf9dcbd-5e07-4f8a-b7d2-477369c8693b"
   },
   "outputs": [
    {
     "data": {
      "image/png": "[encoded data removed]",
      "text/plain": [
       "<Figure size 432x288 with 1 Axes>"
      ]
     },
     "metadata": {
      "needs_background": "light"
     },
     "output_type": "display_data"
    }
   ],
   "source": [
    "max_epsilon = 1.0\n",
    "min_epsilon = 0.001\n",
    "decay_rate = -0.0005\n",
    "time_tic = np.arange(0,15000)\n",
    "epsilon = []\n",
    "\n",
    "#Number of episodes for training\n",
    "for i in time_tic:\n",
    "     epsilon.append(min_epsilon + (max_epsilon - min_epsilon) * np.exp(decay_rate*i))\n",
    "\n",
    "plt.plot(time_tic, epsilon)\n",
    "plt.show()"
   ]
  },
  {
   "cell_type": "markdown",
   "metadata": {
    "id": "ZttHALzgxXEu"
   },
   "source": [
    "\n",
    "##### Initialize Tracking States"
   ]
  },
  {
   "cell_type": "code",
   "execution_count": null,
   "metadata": {
    "id": "lVRSyXdaxVEQ"
   },
   "outputs": [],
   "source": [
    "def initialize_tracking_states():\n",
    "    state_action_pair = [((0, 0, 0), (0, 1)),\n",
    "                         ((0, 1, 1), (3, 4)),\n",
    "                         ((1, 2, 2), (0, 2)),\n",
    "                         ((1, 2, 2), (2, 3)),\n",
    "                         ((2, 3, 3), (2, 1)),\n",
    "                         ((2, 3, 3), (3, 4)),\n",
    "                         ((3, 4, 4), (3, 0)), \n",
    "                         ((4, 4, 4), (1, 0)),\n",
    "                         ((4, 5, 5), (0, 1)),\n",
    "                         ((4, 5, 5), (1, 2))]\n",
    "\n",
    "    for state, action in state_action_pair:\n",
    "        if state not in tracked_states:\n",
    "            tracked_states[state] = defaultdict()\n",
    "        tracked_states[state][action] = list()\n",
    "\n"
   ]
  },
  {
   "cell_type": "markdown",
   "metadata": {
    "id": "0c_JXZ2HxqoQ"
   },
   "source": [
    "\n",
    "##### Persist q-values corresponding for tracked states"
   ]
  },
  {
   "cell_type": "code",
   "execution_count": null,
   "metadata": {
    "id": "EdBM7Gzmxpzn"
   },
   "outputs": [],
   "source": [
    "def update_tracking_states(driver):\n",
    "    for state in tracked_states.keys():\n",
    "        encoded_state = np.array(env.state_encod_arch1(state)).reshape(1, 36)\n",
    "        q_predict = driver.model.predict(encoded_state)\n",
    "        \n",
    "\n",
    "        for action in tracked_states[state].keys():            \n",
    "            action_index = list(\n",
    "                filter(\n",
    "                    lambda x: action == env.action_space[x],\n",
    "                    range(0, len(env.action_space))))[0]\n",
    "            q_value = q_predict[0][action_index]            \n",
    "            tracked_states[state][action].append(q_value)"
   ]
  },
  {
   "cell_type": "markdown",
   "metadata": {
    "id": "p5ptzpGsZb09"
   },
   "source": [
    "## 3. Defining the Agent Class\n",
    "\n",
    "In this framework, we need to fill the following to complete the following code block:\n",
    "1. State and Action Size\n",
    "2. Hyperparameters\n",
    "3. Create a neural-network model in function 'build_model()'\n",
    "4. Define epsilon-greedy strategy in function 'get_action()'\n",
    "5. Complete the function 'append_sample()'. This function appends the recent experience tuple <state, action, reward, new-state> to the memory\n",
    "6. Complete the 'train_model()' function with following logic:\n",
    "   - If the memory size is greater than mini-batch size, you randomly sample experiences from memory as per the mini-batch size and do the following:\n",
    "      - Initialise your input and output batch for training the model\n",
    "      - Calculate the target Q value for each sample: reward + gamma*max(Q(s'a,))\n",
    "      - Get Q(s', a) values from the last trained model\n",
    "      - Update the input batch as your encoded state and output batch as your Q-values\n",
    "      - Then fit your DQN model using the updated input and output batch."
   ]
  },
  {
   "cell_type": "markdown",
   "metadata": {
    "id": "a9nRWlc6-dpL"
   },
   "source": [
    "\n",
    "## Hyper parameters\n",
    "\n",
    "*  state_size : vector length of encoded states (number of neurons in input layer) \n",
    "*   action_size : vector length of predicted q_values for all actions \n",
    "*  learning_rate\n",
    "*  discount_factor\n",
    "*  batch_size : batch size used in neural network for training\n",
    "*  memory_length : replay memory buffer size\n",
    "\n"
   ]
  },
  {
   "cell_type": "code",
   "execution_count": null,
   "metadata": {
    "id": "cOZ2cbMxZb0-"
   },
   "outputs": [],
   "source": [
    "class DQNAgent:\n",
    "    def __init__(self, state_size, action_size):\n",
    "        # Define size of state and action\n",
    "        self.state_size = state_size\n",
    "        self.action_size = action_size\n",
    "\n",
    "        # Specify you hyper parameters for the DQN\n",
    "        self.discount_factor = 0.95\n",
    "        self.learning_rate = 0.01\n",
    "        self.epsilon = 1\n",
    "        self.epsilon_max = 1\n",
    "        self.epsilon_decay = -0.0005 #for 15k\n",
    "        #self.epsilon_decay = -0.00015 #for 20k\n",
    "        #self.epsilon_decay = -0.01 # for 1k\n",
    "        #self.epsilon_decay = -0.1 # for 100    \n",
    "        #self.epsilon_decay = -0.001 # for 7k    \n",
    "        self.epsilon_min = 0.001 \n",
    "     \n",
    "        self.batch_size = 32\n",
    "\n",
    "        # create replay memory using deque\n",
    "        self.memory = deque(maxlen=2000)\n",
    "\n",
    "        # Initialize the value of the states tracked\n",
    "        self.states_tracked = []\n",
    "        \n",
    "        # We are going to track state [0,0,0] and action (0,2) at index 2 in the action space.\n",
    "        self.track_state = np.array(env.state_encod_arch1([0,0,0])).reshape(1, 36)\n",
    "\n",
    "        # create main model and target model\n",
    "        self.model = self.build_model()\n",
    "\n",
    "    # approximate Q function using Neural Network\n",
    "    def build_model(self):\n",
    "        \"\"\"\n",
    "        Function that takes in the agent and constructs the network\n",
    "        to train it\n",
    "        @return model\n",
    "        @params agent\n",
    "        \"\"\"\n",
    "        input_shape = self.state_size\n",
    "        model = Sequential()\n",
    "        # Input layer : 'state_size'       \n",
    "        model.add(Dense(32, input_dim=self.state_size, activation='relu', kernel_initializer='he_uniform'))\n",
    "        # Hidden Layers\n",
    "        model.add(Dense(32, activation='relu', kernel_initializer='he_uniform'))\n",
    "        # Output Layer : 'action_size'\n",
    "        model.add(Dense(self.action_size, activation='relu', kernel_initializer='he_uniform'))\n",
    "        model.compile(loss='mse', optimizer=Adam(learning_rate=self.learning_rate))\n",
    "        model.summary()\n",
    "        return model\n",
    "\n",
    "  \n",
    "    def get_action(self, state, possible_actions_index, actions):\n",
    "        \"\"\"\n",
    "        get action in a state according to an epsilon-greedy approach\n",
    "        possible_actions_index, actions are the 'ride requests' that the driver got.\n",
    "        \"\"\"        \n",
    "        # get action from model using epsilon-greedy policy\n",
    "        # Decay in ε after each episode       \n",
    "        if np.random.rand() <= self.epsilon:\n",
    "            # explore: choose a random action from the ride requests\n",
    "            return random.choice(possible_actions_index)            \n",
    "        else:\n",
    "            # choose the action with the highest q(s, a)\n",
    "            # the first index corresponds to the batch size, so\n",
    "            # reshape state to (1, state_size) so that the first index corresponds to the batch size\n",
    "            state = np.array(env.state_encod_arch1(state)).reshape(1, 36)\n",
    "\n",
    "            # Use the model to predict the Q_values.\n",
    "            q_value = self.model.predict(state)\n",
    "\n",
    "            # truncate the array to only those actions that are part of the ride  requests.\n",
    "            q_vals_possible = [q_value[0][i] for i in possible_actions_index]\n",
    "     \n",
    "            return possible_actions_index[np.argmax(q_vals_possible)]\n",
    "\n",
    "    def append_sample(self, state, action_index, reward, next_state, done):\n",
    "        \"\"\"appends the new agent run output to replay buffer\"\"\"\n",
    "        self.memory.append((state, action_index, reward, next_state, done))\n",
    "        \n",
    "    # pick samples randomly from replay memory (with batch_size) and train the network\n",
    "    def train_model(self):\n",
    "        \"\"\" \n",
    "        Function to train the model on eacg step run.\n",
    "        Picks the random memory events according to batch size and \n",
    "        runs it through the network to train it.\n",
    "        \"\"\"\n",
    "        if len(self.memory) > self.batch_size:\n",
    "            # Sample batch from the memory\n",
    "            mini_batch = random.sample(self.memory, self.batch_size)\n",
    "           \n",
    "            # initialize input state vector S\n",
    "            state_input = np.zeros((self.batch_size, self.state_size))\n",
    "            # initialize input state vector S'\n",
    "            next_state_input = np.zeros((self.batch_size, self.state_size))\n",
    "            actions, rewards, done = [], [], []\n",
    "\n",
    "            # populate state_input, next_state_input and the lists rewards, actions, done\n",
    "            for i in range(self.batch_size):\n",
    "                state, action, reward, next_state, done_boolean = mini_batch[i]\n",
    "                state_input[i] = env.state_encod_arch1(state)     \n",
    "                actions.append(action)\n",
    "                rewards.append(reward)\n",
    "                next_state_input[i] = env.state_encod_arch1(next_state)\n",
    "                done.append(done_boolean)\n",
    "\n",
    "            # once the input matrices S and S' have been created, perform a feed-forward.\n",
    "            # this will generate q-values for all possible actions of a batch input\n",
    "\n",
    "            # generate Q(s, a)\n",
    "            state_q_values = self.model.predict(state_input)\n",
    "            # generate Q(s', a)\n",
    "            next_state_q_values = self.model.predict(next_state_input)\n",
    "\n",
    "\n",
    "            # update the target values\n",
    "            for i in range(self.batch_size):\n",
    "                if done[i]:\n",
    "                    state_q_values[i][actions[i]] = rewards[i]\n",
    "                else: # non-terminal state\n",
    "                    state_q_values[i][actions[i]] = rewards[i] + self.discount_factor * np.max(next_state_q_values[i])\n",
    "            # model fit\n",
    "            self.model.fit(state_input, state_q_values, batch_size=self.batch_size, epochs=1, verbose=0)\n",
    "            \n",
    "    def save_tracking_states(self):\n",
    "        # Use the model to predict the q_value of the state we are tacking.\n",
    "        q_value = self.model.predict(self.track_state)\n",
    "        \n",
    "        # Grab the q_value of the action index that we are tracking.\n",
    "        self.states_tracked.append(q_value[0][2])\n",
    "        \n",
    "    def save_test_states(self):\n",
    "        # Use the model to predict the q_value of the state we are tacking.\n",
    "        q_value = self.model.predict(self.track_state)\n",
    "        \n",
    "        # Grab the q_value of the action index that we are tracking.\n",
    "        self.states_test.append(q_value[0][2])\n",
    "\n",
    "    def save(self, name):        \n",
    "        save_obj(self.model.get_weights(),  name)\n",
    "    "
   ]
  },
  {
   "cell_type": "markdown",
   "metadata": {
    "id": "QIVPbeydAY7Q"
   },
   "source": [
    "## Initialization"
   ]
  },
  {
   "cell_type": "code",
   "execution_count": null,
   "metadata": {
    "colab": {
     "base_uri": "https://localhost:8080/"
    },
    "id": "tsrxwEjYAWmZ",
    "outputId": "6199db0d-0163-47e0-c1fc-b589e646c4f1"
   },
   "outputs": [
    {
     "data": {
      "text/plain": [
       "defaultdict(None,\n",
       "            {(0, 0, 0): defaultdict(None, {(0, 1): []}),\n",
       "             (0, 1, 1): defaultdict(None, {(3, 4): []}),\n",
       "             (1, 2, 2): defaultdict(None, {(0, 2): [], (2, 3): []}),\n",
       "             (2, 3, 3): defaultdict(None, {(2, 1): [], (3, 4): []}),\n",
       "             (3, 4, 4): defaultdict(None, {(3, 0): []}),\n",
       "             (4, 4, 4): defaultdict(None, {(1, 0): []}),\n",
       "             (4, 5, 5): defaultdict(None, {(0, 1): [], (1, 2): []})})"
      ]
     },
     "execution_count": 22,
     "metadata": {},
     "output_type": "execute_result"
    }
   ],
   "source": [
    "#Initiaze sample tracking states\n",
    "tracked_states = defaultdict()\n",
    "initialize_tracking_states()\n",
    "tracked_states"
   ]
  },
  {
   "cell_type": "markdown",
   "metadata": {
    "id": "j5hw0EdGZb0_"
   },
   "source": [
    "## 4. Training - DQN block"
   ]
  },
  {
   "cell_type": "code",
   "execution_count": null,
   "metadata": {
    "id": "39IuHJWwi5q8"
   },
   "outputs": [],
   "source": [
    "#Initialize the DQN Block \n",
    "\n",
    "episode_time = 24*30 #30 days before which car has to be recharged\n",
    "total_episodes = 15000\n",
    "m = 5\n",
    "t = 24\n",
    "d = 7\n",
    "\n",
    "# Invoke Env class\n",
    "env = CabDriver()\n",
    "action_space, state_space, state = env.reset()\n",
    "\n",
    "# Set up state and action sizes.\n",
    "state_size = m+t+d\n",
    "action_size = len(action_space)\n",
    "\n",
    "# to store rewards in each episode\n",
    "rewards_per_episode, episodes = [], []"
   ]
  },
  {
   "cell_type": "code",
   "execution_count": null,
   "metadata": {
    "colab": {
     "base_uri": "https://localhost:8080/"
    },
    "id": "hJnE9TDH-pyf",
    "outputId": "097d158c-d671-49c9-92b2-cdf6a526946f"
   },
   "outputs": [
    {
     "name": "stdout",
     "output_type": "stream",
     "text": [
      "Model: \"sequential\"\n",
      "_________________________________________________________________\n",
      " Layer (type)                Output Shape              Param #   \n",
      "=================================================================\n",
      " dense (Dense)               (None, 32)                1184      \n",
      "                                                                 \n",
      " dense_1 (Dense)             (None, 32)                1056      \n",
      "                                                                 \n",
      " dense_2 (Dense)             (None, 21)                693       \n",
      "                                                                 \n",
      "=================================================================\n",
      "Total params: 2,933\n",
      "Trainable params: 2,933\n",
      "Non-trainable params: 0\n",
      "_________________________________________________________________\n"
     ]
    }
   ],
   "source": [
    "# Invoke agent class\n",
    "agent = DQNAgent(action_size=action_size, state_size=state_size)\n"
   ]
  },
  {
   "cell_type": "markdown",
   "metadata": {
    "id": "ZhWMtmUF_vVY"
   },
   "source": [
    "## 5. Training Iteration"
   ]
  },
  {
   "cell_type": "code",
   "execution_count": null,
   "metadata": {
    "colab": {
     "base_uri": "https://localhost:8080/"
    },
    "id": "GdZguKDNZb0_",
    "outputId": "fcbed8d6-7d21-4cc5-f22c-a9f011eeb604"
   },
   "outputs": [
    {
     "name": "stderr",
     "output_type": "stream",
     "text": [
      "\r",
      "  0%|          | 0/15000 [00:00<?, ?it/s]/usr/local/lib/python3.7/dist-packages/keras/engine/training_v1.py:2079: UserWarning: `Model.state_updates` will be removed in a future version. This property should not be used in TensorFlow 2.0, as `updates` are applied automatically.\n",
      "  updates=self.state_updates,\n",
      "  1%|          | 100/15000 [01:36<3:51:17,  1.07it/s]"
     ]
    },
    {
     "name": "stdout",
     "output_type": "stream",
     "text": [
      "\n",
      "Episode 100, reward -121.0, memory_length 2000, epsilon 0.9517534529783257 total_time 725.0\n",
      "\n"
     ]
    },
    {
     "name": "stderr",
     "output_type": "stream",
     "text": [
      "  1%|▏         | 200/15000 [03:12<4:00:09,  1.03it/s]"
     ]
    },
    {
     "name": "stdout",
     "output_type": "stream",
     "text": [
      "\n",
      "Episode 200, reward -155.0, memory_length 2000, epsilon 0.9053846599186395 total_time 722.0\n",
      "\n"
     ]
    },
    {
     "name": "stderr",
     "output_type": "stream",
     "text": [
      "  2%|▏         | 300/15000 [04:49<3:39:49,  1.11it/s]"
     ]
    },
    {
     "name": "stdout",
     "output_type": "stream",
     "text": [
      "\n",
      "Episode 300, reward -310.0, memory_length 2000, epsilon 0.8612772995816813 total_time 721.0\n",
      "\n"
     ]
    },
    {
     "name": "stderr",
     "output_type": "stream",
     "text": [
      "  3%|▎         | 400/15000 [06:25<3:39:13,  1.11it/s]"
     ]
    },
    {
     "name": "stdout",
     "output_type": "stream",
     "text": [
      "\n",
      "Episode 400, reward -188.0, memory_length 2000, epsilon 0.8193210805921111 total_time 726.0\n",
      "\n"
     ]
    },
    {
     "name": "stderr",
     "output_type": "stream",
     "text": [
      "  3%|▎         | 500/15000 [07:58<3:32:35,  1.14it/s]"
     ]
    },
    {
     "name": "stdout",
     "output_type": "stream",
     "text": [
      "\n",
      "Episode 500, reward -407.0, memory_length 2000, epsilon 0.7794110905484362 total_time 725.0\n",
      "\n"
     ]
    },
    {
     "name": "stderr",
     "output_type": "stream",
     "text": [
      "  4%|▍         | 600/15000 [09:35<3:45:29,  1.06it/s]"
     ]
    },
    {
     "name": "stdout",
     "output_type": "stream",
     "text": [
      "\n",
      "Episode 600, reward -270.0, memory_length 2000, epsilon 0.7414475336873622 total_time 724.0\n",
      "\n"
     ]
    },
    {
     "name": "stderr",
     "output_type": "stream",
     "text": [
      "  5%|▍         | 700/15000 [11:07<3:44:03,  1.06it/s]"
     ]
    },
    {
     "name": "stdout",
     "output_type": "stream",
     "text": [
      "\n",
      "Episode 700, reward -130.0, memory_length 2000, epsilon 0.7053354813424025 total_time 721.0\n",
      "\n"
     ]
    },
    {
     "name": "stderr",
     "output_type": "stream",
     "text": [
      "  5%|▌         | 800/15000 [12:39<3:44:16,  1.06it/s]"
     ]
    },
    {
     "name": "stdout",
     "output_type": "stream",
     "text": [
      "\n",
      "Episode 800, reward -208.0, memory_length 2000, epsilon 0.6709846345727669 total_time 722.0\n",
      "\n"
     ]
    },
    {
     "name": "stderr",
     "output_type": "stream",
     "text": [
      "  6%|▌         | 900/15000 [14:11<3:42:43,  1.06it/s]"
     ]
    },
    {
     "name": "stdout",
     "output_type": "stream",
     "text": [
      "\n",
      "Episode 900, reward -132.0, memory_length 2000, epsilon 0.6383090983689743 total_time 723.0\n",
      "\n"
     ]
    },
    {
     "name": "stderr",
     "output_type": "stream",
     "text": [
      "  7%|▋         | 1000/15000 [15:44<3:54:47,  1.01s/it]"
     ]
    },
    {
     "name": "stdout",
     "output_type": "stream",
     "text": [
      "\n",
      "Episode 1000, reward -61.0, memory_length 2000, epsilon 0.6072271668705884 total_time 725.0\n",
      "\n"
     ]
    },
    {
     "name": "stderr",
     "output_type": "stream",
     "text": [
      "  7%|▋         | 1100/15000 [17:13<3:23:54,  1.14it/s]"
     ]
    },
    {
     "name": "stdout",
     "output_type": "stream",
     "text": [
      "\n",
      "Episode 1100, reward 81.0, memory_length 2000, epsilon 0.5776611190590081 total_time 721.0\n",
      "\n"
     ]
    },
    {
     "name": "stderr",
     "output_type": "stream",
     "text": [
      "  8%|▊         | 1200/15000 [18:43<3:29:52,  1.10it/s]"
     ]
    },
    {
     "name": "stdout",
     "output_type": "stream",
     "text": [
      "\n",
      "Episode 1200, reward -75.0, memory_length 2000, epsilon 0.549537024414438 total_time 727.0\n",
      "\n"
     ]
    },
    {
     "name": "stderr",
     "output_type": "stream",
     "text": [
      "  9%|▊         | 1300/15000 [20:11<3:19:00,  1.15it/s]"
     ]
    },
    {
     "name": "stdout",
     "output_type": "stream",
     "text": [
      "\n",
      "Episode 1300, reward -115.0, memory_length 2000, epsilon 0.52278455805108 total_time 725.0\n",
      "\n"
     ]
    },
    {
     "name": "stderr",
     "output_type": "stream",
     "text": [
      "  9%|▉         | 1400/15000 [21:38<3:14:17,  1.17it/s]"
     ]
    },
    {
     "name": "stdout",
     "output_type": "stream",
     "text": [
      "\n",
      "Episode 1400, reward -180.0, memory_length 2000, epsilon 0.4973368248682882 total_time 721.0\n",
      "\n"
     ]
    },
    {
     "name": "stderr",
     "output_type": "stream",
     "text": [
      " 10%|█         | 1500/15000 [23:04<3:12:56,  1.17it/s]"
     ]
    },
    {
     "name": "stdout",
     "output_type": "stream",
     "text": [
      "\n",
      "Episode 1500, reward -209.0, memory_length 2000, epsilon 0.4731301922779734 total_time 729.0\n",
      "\n"
     ]
    },
    {
     "name": "stderr",
     "output_type": "stream",
     "text": [
      " 11%|█         | 1600/15000 [24:32<3:12:12,  1.16it/s]"
     ]
    },
    {
     "name": "stdout",
     "output_type": "stream",
     "text": [
      "\n",
      "Episode 1600, reward -131.0, memory_length 2000, epsilon 0.45010413108998815 total_time 722.0\n",
      "\n"
     ]
    },
    {
     "name": "stderr",
     "output_type": "stream",
     "text": [
      " 11%|█▏        | 1700/15000 [26:02<3:10:46,  1.16it/s]"
     ]
    },
    {
     "name": "stdout",
     "output_type": "stream",
     "text": [
      "\n",
      "Episode 1700, reward -303.0, memory_length 2000, epsilon 0.42820106415762266 total_time 725.0\n",
      "\n"
     ]
    },
    {
     "name": "stderr",
     "output_type": "stream",
     "text": [
      " 12%|█▏        | 1800/15000 [27:32<3:18:38,  1.11it/s]"
     ]
    },
    {
     "name": "stdout",
     "output_type": "stream",
     "text": [
      "\n",
      "Episode 1800, reward -161.0, memory_length 2000, epsilon 0.407366222404748 total_time 729.0\n",
      "\n"
     ]
    },
    {
     "name": "stderr",
     "output_type": "stream",
     "text": [
      " 13%|█▎        | 1900/15000 [29:03<3:11:54,  1.14it/s]"
     ]
    },
    {
     "name": "stdout",
     "output_type": "stream",
     "text": [
      "\n",
      "Episode 1900, reward -214.0, memory_length 2000, epsilon 0.3875475078745976 total_time 726.0\n",
      "\n"
     ]
    },
    {
     "name": "stderr",
     "output_type": "stream",
     "text": [
      " 13%|█▎        | 2000/15000 [30:29<3:26:00,  1.05it/s]"
     ]
    },
    {
     "name": "stdout",
     "output_type": "stream",
     "text": [
      "\n",
      "Episode 2000, reward 73.0, memory_length 2000, epsilon 0.3686953634577387 total_time 727.0\n",
      "\n"
     ]
    },
    {
     "name": "stderr",
     "output_type": "stream",
     "text": [
      " 14%|█▍        | 2100/15000 [31:55<3:05:35,  1.16it/s]"
     ]
    },
    {
     "name": "stdout",
     "output_type": "stream",
     "text": [
      "\n",
      "Episode 2100, reward -229.0, memory_length 2000, epsilon 0.3507626489734856 total_time 724.0\n",
      "\n"
     ]
    },
    {
     "name": "stderr",
     "output_type": "stream",
     "text": [
      " 15%|█▍        | 2200/15000 [33:19<3:04:54,  1.15it/s]"
     ]
    },
    {
     "name": "stdout",
     "output_type": "stream",
     "text": [
      "\n",
      "Episode 2200, reward -31.0, memory_length 2000, epsilon 0.33370452329489403 total_time 725.0\n",
      "\n"
     ]
    },
    {
     "name": "stderr",
     "output_type": "stream",
     "text": [
      " 15%|█▌        | 2300/15000 [34:44<2:59:28,  1.18it/s]"
     ]
    },
    {
     "name": "stdout",
     "output_type": "stream",
     "text": [
      "\n",
      "Episode 2300, reward 263.0, memory_length 2000, epsilon 0.3174783322225864 total_time 723.0\n",
      "\n"
     ]
    },
    {
     "name": "stderr",
     "output_type": "stream",
     "text": [
      " 16%|█▌        | 2400/15000 [36:09<2:48:35,  1.25it/s]"
     ]
    },
    {
     "name": "stdout",
     "output_type": "stream",
     "text": [
      "\n",
      "Episode 2400, reward 324.0, memory_length 2000, epsilon 0.30204350182703665 total_time 722.0\n",
      "\n"
     ]
    },
    {
     "name": "stderr",
     "output_type": "stream",
     "text": [
      " 17%|█▋        | 2500/15000 [37:33<2:53:31,  1.20it/s]"
     ]
    },
    {
     "name": "stdout",
     "output_type": "stream",
     "text": [
      "\n",
      "Episode 2500, reward 69.0, memory_length 2000, epsilon 0.28736143699261174 total_time 724.0\n",
      "\n"
     ]
    },
    {
     "name": "stderr",
     "output_type": "stream",
     "text": [
      " 17%|█▋        | 2600/15000 [38:57<2:59:22,  1.15it/s]"
     ]
    },
    {
     "name": "stdout",
     "output_type": "stream",
     "text": [
      "\n",
      "Episode 2600, reward 90.0, memory_length 2000, epsilon 0.2733954249096795 total_time 724.0\n",
      "\n"
     ]
    },
    {
     "name": "stderr",
     "output_type": "stream",
     "text": [
      " 18%|█▊        | 2700/15000 [40:21<2:52:26,  1.19it/s]"
     ]
    },
    {
     "name": "stdout",
     "output_type": "stream",
     "text": [
      "\n",
      "Episode 2700, reward -29.0, memory_length 2000, epsilon 0.26011054327346195 total_time 721.0\n",
      "\n"
     ]
    },
    {
     "name": "stderr",
     "output_type": "stream",
     "text": [
      " 19%|█▊        | 2800/15000 [41:46<2:57:40,  1.14it/s]"
     ]
    },
    {
     "name": "stdout",
     "output_type": "stream",
     "text": [
      "\n",
      "Episode 2800, reward -225.0, memory_length 2000, epsilon 0.24747357296008252 total_time 723.0\n",
      "\n"
     ]
    },
    {
     "name": "stderr",
     "output_type": "stream",
     "text": [
      " 19%|█▉        | 2900/15000 [43:10<2:49:52,  1.19it/s]"
     ]
    },
    {
     "name": "stdout",
     "output_type": "stream",
     "text": [
      "\n",
      "Episode 2900, reward 15.0, memory_length 2000, epsilon 0.23545291496145404 total_time 734.0\n",
      "\n"
     ]
    },
    {
     "name": "stderr",
     "output_type": "stream",
     "text": [
      " 20%|██        | 3000/15000 [44:33<2:26:06,  1.37it/s]"
     ]
    },
    {
     "name": "stdout",
     "output_type": "stream",
     "text": [
      "\n",
      "Episode 3000, reward -42.0, memory_length 2000, epsilon 0.22401851137129875 total_time 721.0\n",
      "\n"
     ]
    },
    {
     "name": "stderr",
     "output_type": "stream",
     "text": [
      " 21%|██        | 3100/15000 [45:54<2:44:43,  1.20it/s]"
     ]
    },
    {
     "name": "stdout",
     "output_type": "stream",
     "text": [
      "\n",
      "Episode 3100, reward -271.0, memory_length 2000, epsilon 0.21314177022472644 total_time 722.0\n",
      "\n"
     ]
    },
    {
     "name": "stderr",
     "output_type": "stream",
     "text": [
      " 21%|██▏       | 3200/15000 [47:17<2:39:45,  1.23it/s]"
     ]
    },
    {
     "name": "stdout",
     "output_type": "stream",
     "text": [
      "\n",
      "Episode 3200, reward -153.0, memory_length 2000, epsilon 0.20279549400342922 total_time 730.0\n",
      "\n"
     ]
    },
    {
     "name": "stderr",
     "output_type": "stream",
     "text": [
      " 22%|██▏       | 3300/15000 [48:45<2:53:51,  1.12it/s]"
     ]
    },
    {
     "name": "stdout",
     "output_type": "stream",
     "text": [
      "\n",
      "Episode 3300, reward -129.0, memory_length 2000, epsilon 0.19295381162771932 total_time 728.0\n",
      "\n"
     ]
    },
    {
     "name": "stderr",
     "output_type": "stream",
     "text": [
      " 23%|██▎       | 3400/15000 [50:21<2:36:39,  1.23it/s]"
     ]
    },
    {
     "name": "stdout",
     "output_type": "stream",
     "text": [
      "\n",
      "Episode 3400, reward -378.0, memory_length 2000, epsilon 0.1835921137653539 total_time 728.0\n",
      "\n"
     ]
    },
    {
     "name": "stderr",
     "output_type": "stream",
     "text": [
      " 23%|██▎       | 3500/15000 [51:43<2:30:39,  1.27it/s]"
     ]
    },
    {
     "name": "stdout",
     "output_type": "stream",
     "text": [
      "\n",
      "Episode 3500, reward -180.0, memory_length 2000, epsilon 0.17468699129538648 total_time 724.0\n",
      "\n"
     ]
    },
    {
     "name": "stderr",
     "output_type": "stream",
     "text": [
      " 24%|██▍       | 3600/15000 [53:08<2:40:34,  1.18it/s]"
     ]
    },
    {
     "name": "stdout",
     "output_type": "stream",
     "text": [
      "\n",
      "Episode 3600, reward 343.0, memory_length 2000, epsilon 0.166216176773171 total_time 730.0\n",
      "\n"
     ]
    },
    {
     "name": "stderr",
     "output_type": "stream",
     "text": [
      " 25%|██▍       | 3700/15000 [54:31<2:23:48,  1.31it/s]"
     ]
    },
    {
     "name": "stdout",
     "output_type": "stream",
     "text": [
      "\n",
      "Episode 3700, reward -157.0, memory_length 2000, epsilon 0.15815848875015165 total_time 725.0\n",
      "\n"
     ]
    },
    {
     "name": "stderr",
     "output_type": "stream",
     "text": [
      " 25%|██▌       | 3800/15000 [55:49<2:31:21,  1.23it/s]"
     ]
    },
    {
     "name": "stdout",
     "output_type": "stream",
     "text": [
      "\n",
      "Episode 3800, reward 474.0, memory_length 2000, epsilon 0.15049377880920872 total_time 725.0\n",
      "\n"
     ]
    },
    {
     "name": "stderr",
     "output_type": "stream",
     "text": [
      " 26%|██▌       | 3900/15000 [57:12<2:41:31,  1.15it/s]"
     ]
    },
    {
     "name": "stdout",
     "output_type": "stream",
     "text": [
      "\n",
      "Episode 3900, reward -194.0, memory_length 2000, epsilon 0.14320288118312066 total_time 723.0\n",
      "\n"
     ]
    },
    {
     "name": "stderr",
     "output_type": "stream",
     "text": [
      " 27%|██▋       | 4000/15000 [58:36<2:25:39,  1.26it/s]"
     ]
    },
    {
     "name": "stdout",
     "output_type": "stream",
     "text": [
      "\n",
      "Episode 4000, reward -195.0, memory_length 2000, epsilon 0.13626756483016328 total_time 724.0\n",
      "\n"
     ]
    },
    {
     "name": "stderr",
     "output_type": "stream",
     "text": [
      " 27%|██▋       | 4100/15000 [1:00:01<2:58:21,  1.02it/s]"
     ]
    },
    {
     "name": "stdout",
     "output_type": "stream",
     "text": [
      "\n",
      "Episode 4100, reward 72.0, memory_length 2000, epsilon 0.12967048784700924 total_time 721.0\n",
      "\n"
     ]
    },
    {
     "name": "stderr",
     "output_type": "stream",
     "text": [
      " 28%|██▊       | 4200/15000 [1:01:33<2:32:35,  1.18it/s]"
     ]
    },
    {
     "name": "stdout",
     "output_type": "stream",
     "text": [
      "\n",
      "Episode 4200, reward 448.0, memory_length 2000, epsilon 0.12339515410493672 total_time 721.0\n",
      "\n"
     ]
    },
    {
     "name": "stderr",
     "output_type": "stream",
     "text": [
      " 29%|██▊       | 4300/15000 [1:02:59<2:41:13,  1.11it/s]"
     ]
    },
    {
     "name": "stdout",
     "output_type": "stream",
     "text": [
      "\n",
      "Episode 4300, reward -126.0, memory_length 2000, epsilon 0.11742587200091513 total_time 721.0\n",
      "\n"
     ]
    },
    {
     "name": "stderr",
     "output_type": "stream",
     "text": [
      " 29%|██▉       | 4400/15000 [1:04:31<2:37:54,  1.12it/s]"
     ]
    },
    {
     "name": "stdout",
     "output_type": "stream",
     "text": [
      "\n",
      "Episode 4400, reward 246.0, memory_length 2000, epsilon 0.11174771522042432 total_time 728.0\n",
      "\n"
     ]
    },
    {
     "name": "stderr",
     "output_type": "stream",
     "text": [
      " 30%|███       | 4500/15000 [1:05:56<2:23:00,  1.22it/s]"
     ]
    },
    {
     "name": "stdout",
     "output_type": "stream",
     "text": [
      "\n",
      "Episode 4500, reward 378.0, memory_length 2000, epsilon 0.1063464854138932 total_time 733.0\n",
      "\n"
     ]
    },
    {
     "name": "stderr",
     "output_type": "stream",
     "text": [
      " 31%|███       | 4600/15000 [1:07:21<2:12:53,  1.30it/s]"
     ]
    },
    {
     "name": "stdout",
     "output_type": "stream",
     "text": [
      "\n",
      "Episode 4600, reward 83.0, memory_length 2000, epsilon 0.10120867669343046 total_time 726.0\n",
      "\n"
     ]
    },
    {
     "name": "stderr",
     "output_type": "stream",
     "text": [
      " 31%|███▏      | 4700/15000 [1:08:47<2:32:53,  1.12it/s]"
     ]
    },
    {
     "name": "stdout",
     "output_type": "stream",
     "text": [
      "\n",
      "Episode 4700, reward 377.0, memory_length 2000, epsilon 0.09632144186107 total_time 725.0\n",
      "\n"
     ]
    },
    {
     "name": "stderr",
     "output_type": "stream",
     "text": [
      " 32%|███▏      | 4800/15000 [1:10:10<2:19:30,  1.22it/s]"
     ]
    },
    {
     "name": "stdout",
     "output_type": "stream",
     "text": [
      "\n",
      "Episode 4800, reward 614.0, memory_length 2000, epsilon 0.09167256028408385 total_time 724.0\n",
      "\n"
     ]
    },
    {
     "name": "stderr",
     "output_type": "stream",
     "text": [
      " 33%|███▎      | 4900/15000 [1:11:31<2:12:15,  1.27it/s]"
     ]
    },
    {
     "name": "stdout",
     "output_type": "stream",
     "text": [
      "\n",
      "Episode 4900, reward 154.0, memory_length 2000, epsilon 0.08725040733703539 total_time 727.0\n",
      "\n"
     ]
    },
    {
     "name": "stderr",
     "output_type": "stream",
     "text": [
      " 33%|███▎      | 5000/15000 [1:12:51<2:02:23,  1.36it/s]"
     ]
    },
    {
     "name": "stdout",
     "output_type": "stream",
     "text": [
      "\n",
      "Episode 5000, reward -103.0, memory_length 2000, epsilon 0.08304392533416036 total_time 724.0\n",
      "\n"
     ]
    },
    {
     "name": "stderr",
     "output_type": "stream",
     "text": [
      " 34%|███▍      | 5100/15000 [1:14:09<1:58:54,  1.39it/s]"
     ]
    },
    {
     "name": "stdout",
     "output_type": "stream",
     "text": [
      "\n",
      "Episode 5100, reward 142.0, memory_length 2000, epsilon 0.07904259587939289 total_time 721.0\n",
      "\n"
     ]
    },
    {
     "name": "stderr",
     "output_type": "stream",
     "text": [
      " 35%|███▍      | 5200/15000 [1:15:29<2:12:56,  1.23it/s]"
     ]
    },
    {
     "name": "stdout",
     "output_type": "stream",
     "text": [
      "\n",
      "Episode 5200, reward 352.0, memory_length 2000, epsilon 0.0752364135648967 total_time 730.0\n",
      "\n"
     ]
    },
    {
     "name": "stderr",
     "output_type": "stream",
     "text": [
      " 35%|███▌      | 5300/15000 [1:16:51<2:05:18,  1.29it/s]"
     ]
    },
    {
     "name": "stdout",
     "output_type": "stream",
     "text": [
      "\n",
      "Episode 5300, reward 129.0, memory_length 2000, epsilon 0.07161586095233367 total_time 722.0\n",
      "\n"
     ]
    },
    {
     "name": "stderr",
     "output_type": "stream",
     "text": [
      " 36%|███▌      | 5400/15000 [1:18:13<2:10:48,  1.22it/s]"
     ]
    },
    {
     "name": "stdout",
     "output_type": "stream",
     "text": [
      "\n",
      "Episode 5400, reward 130.0, memory_length 2000, epsilon 0.06817188477431081 total_time 723.0\n",
      "\n"
     ]
    },
    {
     "name": "stderr",
     "output_type": "stream",
     "text": [
      " 37%|███▋      | 5500/15000 [1:19:40<2:09:07,  1.23it/s]"
     ]
    },
    {
     "name": "stdout",
     "output_type": "stream",
     "text": [
      "\n",
      "Episode 5500, reward 351.0, memory_length 2000, epsilon 0.06489587329649593 total_time 731.0\n",
      "\n"
     ]
    },
    {
     "name": "stderr",
     "output_type": "stream",
     "text": [
      " 37%|███▋      | 5600/15000 [1:21:04<2:11:08,  1.19it/s]"
     ]
    },
    {
     "name": "stdout",
     "output_type": "stream",
     "text": [
      "\n",
      "Episode 5600, reward 144.0, memory_length 2000, epsilon 0.061779634783796375 total_time 724.0\n",
      "\n"
     ]
    },
    {
     "name": "stderr",
     "output_type": "stream",
     "text": [
      " 38%|███▊      | 5700/15000 [1:22:26<2:10:39,  1.19it/s]"
     ]
    },
    {
     "name": "stdout",
     "output_type": "stream",
     "text": [
      "\n",
      "Episode 5700, reward -173.0, memory_length 2000, epsilon 0.05881537701675422 total_time 726.0\n",
      "\n"
     ]
    },
    {
     "name": "stderr",
     "output_type": "stream",
     "text": [
      " 39%|███▊      | 5800/15000 [1:23:51<2:03:59,  1.24it/s]"
     ]
    },
    {
     "name": "stdout",
     "output_type": "stream",
     "text": [
      "\n",
      "Episode 5800, reward -76.0, memory_length 2000, epsilon 0.05599568780693891 total_time 725.0\n",
      "\n"
     ]
    },
    {
     "name": "stderr",
     "output_type": "stream",
     "text": [
      " 39%|███▉      | 5900/15000 [1:25:14<1:53:18,  1.34it/s]"
     ]
    },
    {
     "name": "stdout",
     "output_type": "stream",
     "text": [
      "\n",
      "Episode 5900, reward -380.0, memory_length 2000, epsilon 0.05331351646261544 total_time 721.0\n",
      "\n"
     ]
    },
    {
     "name": "stderr",
     "output_type": "stream",
     "text": [
      " 40%|████      | 6000/15000 [1:26:33<2:06:02,  1.19it/s]"
     ]
    },
    {
     "name": "stdout",
     "output_type": "stream",
     "text": [
      "\n",
      "Episode 6000, reward 128.0, memory_length 2000, epsilon 0.05076215615834229 total_time 723.0\n",
      "\n"
     ]
    },
    {
     "name": "stderr",
     "output_type": "stream",
     "text": [
      " 41%|████      | 6100/15000 [1:27:50<2:06:35,  1.17it/s]"
     ]
    },
    {
     "name": "stdout",
     "output_type": "stream",
     "text": [
      "\n",
      "Episode 6100, reward 519.0, memory_length 2000, epsilon 0.048335227164414615 total_time 723.0\n",
      "\n"
     ]
    },
    {
     "name": "stderr",
     "output_type": "stream",
     "text": [
      " 41%|████▏     | 6200/15000 [1:29:09<2:05:22,  1.17it/s]"
     ]
    },
    {
     "name": "stdout",
     "output_type": "stream",
     "text": [
      "\n",
      "Episode 6200, reward 201.0, memory_length 2000, epsilon 0.04602666089421669 total_time 734.0\n",
      "\n"
     ]
    },
    {
     "name": "stderr",
     "output_type": "stream",
     "text": [
      " 42%|████▏     | 6300/15000 [1:30:28<1:53:00,  1.28it/s]"
     ]
    },
    {
     "name": "stdout",
     "output_type": "stream",
     "text": [
      "\n",
      "Episode 6300, reward 110.0, memory_length 2000, epsilon 0.04383068472959453 total_time 722.0\n",
      "\n"
     ]
    },
    {
     "name": "stderr",
     "output_type": "stream",
     "text": [
      " 43%|████▎     | 6400/15000 [1:31:47<1:53:46,  1.26it/s]"
     ]
    },
    {
     "name": "stdout",
     "output_type": "stream",
     "text": [
      "\n",
      "Episode 6400, reward -187.0, memory_length 2000, epsilon 0.041741807586303734 total_time 725.0\n",
      "\n"
     ]
    },
    {
     "name": "stderr",
     "output_type": "stream",
     "text": [
      " 43%|████▎     | 6500/15000 [1:33:14<2:06:32,  1.12it/s]"
     ]
    },
    {
     "name": "stdout",
     "output_type": "stream",
     "text": [
      "\n",
      "Episode 6500, reward 360.0, memory_length 2000, epsilon 0.03975480618343852 total_time 725.0\n",
      "\n"
     ]
    },
    {
     "name": "stderr",
     "output_type": "stream",
     "text": [
      " 44%|████▍     | 6600/15000 [1:34:41<2:09:21,  1.08it/s]"
     ]
    },
    {
     "name": "stdout",
     "output_type": "stream",
     "text": [
      "\n",
      "Episode 6600, reward 332.0, memory_length 2000, epsilon 0.03786471198250894 total_time 724.0\n",
      "\n"
     ]
    },
    {
     "name": "stderr",
     "output_type": "stream",
     "text": [
      " 45%|████▍     | 6700/15000 [1:36:08<1:55:28,  1.20it/s]"
     ]
    },
    {
     "name": "stdout",
     "output_type": "stream",
     "text": [
      "\n",
      "Episode 6700, reward 189.0, memory_length 2000, epsilon 0.03606679876350656 total_time 726.0\n",
      "\n"
     ]
    },
    {
     "name": "stderr",
     "output_type": "stream",
     "text": [
      " 45%|████▌     | 6800/15000 [1:37:27<1:47:02,  1.28it/s]"
     ]
    },
    {
     "name": "stdout",
     "output_type": "stream",
     "text": [
      "\n",
      "Episode 6800, reward 72.0, memory_length 2000, epsilon 0.03435657080689268 total_time 724.0\n",
      "\n"
     ]
    },
    {
     "name": "stderr",
     "output_type": "stream",
     "text": [
      " 46%|████▌     | 6900/15000 [1:38:49<1:48:42,  1.24it/s]"
     ]
    },
    {
     "name": "stdout",
     "output_type": "stream",
     "text": [
      "\n",
      "Episode 6900, reward 97.0, memory_length 2000, epsilon 0.03272975165195786 total_time 722.0\n",
      "\n"
     ]
    },
    {
     "name": "stderr",
     "output_type": "stream",
     "text": [
      " 47%|████▋     | 7000/15000 [1:40:14<2:05:32,  1.06it/s]"
     ]
    },
    {
     "name": "stdout",
     "output_type": "stream",
     "text": [
      "\n",
      "Episode 7000, reward 137.0, memory_length 2000, epsilon 0.03118227340344244 total_time 722.0\n",
      "\n"
     ]
    },
    {
     "name": "stderr",
     "output_type": "stream",
     "text": [
      " 47%|████▋     | 7100/15000 [1:41:37<1:55:46,  1.14it/s]"
     ]
    },
    {
     "name": "stdout",
     "output_type": "stream",
     "text": [
      "\n",
      "Episode 7100, reward -355.0, memory_length 2000, epsilon 0.029710266559679763 total_time 721.0\n",
      "\n"
     ]
    },
    {
     "name": "stderr",
     "output_type": "stream",
     "text": [
      " 48%|████▊     | 7200/15000 [1:43:01<1:44:06,  1.25it/s]"
     ]
    },
    {
     "name": "stdout",
     "output_type": "stream",
     "text": [
      "\n",
      "Episode 7200, reward -62.0, memory_length 2000, epsilon 0.028310050336826282 total_time 726.0\n",
      "\n"
     ]
    },
    {
     "name": "stderr",
     "output_type": "stream",
     "text": [
      " 49%|████▊     | 7300/15000 [1:44:24<1:50:21,  1.16it/s]"
     ]
    },
    {
     "name": "stdout",
     "output_type": "stream",
     "text": [
      "\n",
      "Episode 7300, reward 296.0, memory_length 2000, epsilon 0.026978123464984786 total_time 723.0\n",
      "\n"
     ]
    },
    {
     "name": "stderr",
     "output_type": "stream",
     "text": [
      " 49%|████▉     | 7400/15000 [1:45:45<1:50:30,  1.15it/s]"
     ]
    },
    {
     "name": "stdout",
     "output_type": "stream",
     "text": [
      "\n",
      "Episode 7400, reward -38.0, memory_length 2000, epsilon 0.025711155433205977 total_time 727.0\n",
      "\n"
     ]
    },
    {
     "name": "stderr",
     "output_type": "stream",
     "text": [
      " 50%|█████     | 7500/15000 [1:47:04<1:44:44,  1.19it/s]"
     ]
    },
    {
     "name": "stdout",
     "output_type": "stream",
     "text": [
      "\n",
      "Episode 7500, reward 19.0, memory_length 2000, epsilon 0.02450597816147621 total_time 722.0\n",
      "\n"
     ]
    },
    {
     "name": "stderr",
     "output_type": "stream",
     "text": [
      " 51%|█████     | 7600/15000 [1:48:25<1:39:13,  1.24it/s]"
     ]
    },
    {
     "name": "stdout",
     "output_type": "stream",
     "text": [
      "\n",
      "Episode 7600, reward 141.0, memory_length 2000, epsilon 0.023359578078867366 total_time 732.0\n",
      "\n"
     ]
    },
    {
     "name": "stderr",
     "output_type": "stream",
     "text": [
      " 51%|█████▏    | 7700/15000 [1:49:42<1:32:34,  1.31it/s]"
     ]
    },
    {
     "name": "stdout",
     "output_type": "stream",
     "text": [
      "\n",
      "Episode 7700, reward -236.0, memory_length 2000, epsilon 0.02226908858803979 total_time 726.0\n",
      "\n"
     ]
    },
    {
     "name": "stderr",
     "output_type": "stream",
     "text": [
      " 52%|█████▏    | 7800/15000 [1:51:02<1:52:08,  1.07it/s]"
     ]
    },
    {
     "name": "stdout",
     "output_type": "stream",
     "text": [
      "\n",
      "Episode 7800, reward 69.0, memory_length 2000, epsilon 0.02123178289725579 total_time 723.0\n",
      "\n"
     ]
    },
    {
     "name": "stderr",
     "output_type": "stream",
     "text": [
      " 53%|█████▎    | 7900/15000 [1:52:19<1:22:59,  1.43it/s]"
     ]
    },
    {
     "name": "stdout",
     "output_type": "stream",
     "text": [
      "\n",
      "Episode 7900, reward 132.0, memory_length 2000, epsilon 0.020245067201980015 total_time 723.0\n",
      "\n"
     ]
    },
    {
     "name": "stderr",
     "output_type": "stream",
     "text": [
      " 53%|█████▎    | 8000/15000 [1:53:36<1:29:14,  1.31it/s]"
     ]
    },
    {
     "name": "stdout",
     "output_type": "stream",
     "text": [
      "\n",
      "Episode 8000, reward -307.0, memory_length 2000, epsilon 0.019306474199017015 total_time 725.0\n",
      "\n"
     ]
    },
    {
     "name": "stderr",
     "output_type": "stream",
     "text": [
      " 54%|█████▍    | 8100/15000 [1:54:57<1:35:25,  1.21it/s]"
     ]
    },
    {
     "name": "stdout",
     "output_type": "stream",
     "text": [
      "\n",
      "Episode 8100, reward 34.0, memory_length 2000, epsilon 0.018413656916968127 total_time 727.0\n",
      "\n"
     ]
    },
    {
     "name": "stderr",
     "output_type": "stream",
     "text": [
      " 55%|█████▍    | 8200/15000 [1:56:19<1:35:29,  1.19it/s]"
     ]
    },
    {
     "name": "stdout",
     "output_type": "stream",
     "text": [
      "\n",
      "Episode 8200, reward -290.0, memory_length 2000, epsilon 0.01756438284758047 total_time 729.0\n",
      "\n"
     ]
    },
    {
     "name": "stderr",
     "output_type": "stream",
     "text": [
      " 55%|█████▌    | 8300/15000 [1:57:39<1:34:34,  1.18it/s]"
     ]
    },
    {
     "name": "stdout",
     "output_type": "stream",
     "text": [
      "\n",
      "Episode 8300, reward 296.0, memory_length 2000, epsilon 0.016756528363313473 total_time 726.0\n",
      "\n"
     ]
    },
    {
     "name": "stderr",
     "output_type": "stream",
     "text": [
      " 56%|█████▌    | 8400/15000 [1:59:03<1:35:40,  1.15it/s]"
     ]
    },
    {
     "name": "stdout",
     "output_type": "stream",
     "text": [
      "\n",
      "Episode 8400, reward 86.0, memory_length 2000, epsilon 0.01598807340716384 total_time 730.0\n",
      "\n"
     ]
    },
    {
     "name": "stderr",
     "output_type": "stream",
     "text": [
      " 57%|█████▋    | 8500/15000 [2:00:22<1:18:51,  1.37it/s]"
     ]
    },
    {
     "name": "stdout",
     "output_type": "stream",
     "text": [
      "\n",
      "Episode 8500, reward 24.0, memory_length 2000, epsilon 0.015257096441470917 total_time 731.0\n",
      "\n"
     ]
    },
    {
     "name": "stderr",
     "output_type": "stream",
     "text": [
      " 57%|█████▋    | 8600/15000 [2:01:37<1:24:20,  1.26it/s]"
     ]
    },
    {
     "name": "stdout",
     "output_type": "stream",
     "text": [
      "\n",
      "Episode 8600, reward -309.0, memory_length 2000, epsilon 0.014561769643071563 total_time 725.0\n",
      "\n"
     ]
    },
    {
     "name": "stderr",
     "output_type": "stream",
     "text": [
      " 58%|█████▊    | 8700/15000 [2:02:55<1:18:21,  1.34it/s]"
     ]
    },
    {
     "name": "stdout",
     "output_type": "stream",
     "text": [
      "\n",
      "Episode 8700, reward -96.0, memory_length 2000, epsilon 0.013900354332790216 total_time 723.0\n",
      "\n"
     ]
    },
    {
     "name": "stderr",
     "output_type": "stream",
     "text": [
      " 59%|█████▊    | 8800/15000 [2:04:10<1:24:57,  1.22it/s]"
     ]
    },
    {
     "name": "stdout",
     "output_type": "stream",
     "text": [
      "\n",
      "Episode 8800, reward -225.0, memory_length 2000, epsilon 0.013271196627835335 total_time 721.0\n",
      "\n"
     ]
    },
    {
     "name": "stderr",
     "output_type": "stream",
     "text": [
      " 59%|█████▉    | 8900/15000 [2:05:29<1:13:49,  1.38it/s]"
     ]
    },
    {
     "name": "stdout",
     "output_type": "stream",
     "text": [
      "\n",
      "Episode 8900, reward 72.0, memory_length 2000, epsilon 0.012672723306230899 total_time 724.0\n",
      "\n"
     ]
    },
    {
     "name": "stderr",
     "output_type": "stream",
     "text": [
      " 60%|██████    | 9000/15000 [2:06:46<1:16:59,  1.30it/s]"
     ]
    },
    {
     "name": "stdout",
     "output_type": "stream",
     "text": [
      "\n",
      "Episode 9000, reward -53.0, memory_length 2000, epsilon 0.012103437872942092 total_time 722.0\n",
      "\n"
     ]
    },
    {
     "name": "stderr",
     "output_type": "stream",
     "text": [
      " 61%|██████    | 9100/15000 [2:08:02<1:22:56,  1.19it/s]"
     ]
    },
    {
     "name": "stdout",
     "output_type": "stream",
     "text": [
      "\n",
      "Episode 9100, reward -75.0, memory_length 2000, epsilon 0.01156191681785814 total_time 723.0\n",
      "\n"
     ]
    },
    {
     "name": "stderr",
     "output_type": "stream",
     "text": [
      " 61%|██████▏   | 9200/15000 [2:09:19<1:12:50,  1.33it/s]"
     ]
    },
    {
     "name": "stdout",
     "output_type": "stream",
     "text": [
      "\n",
      "Episode 9200, reward 30.0, memory_length 2000, epsilon 0.011046806056275612 total_time 721.0\n",
      "\n"
     ]
    },
    {
     "name": "stderr",
     "output_type": "stream",
     "text": [
      " 62%|██████▏   | 9300/15000 [2:10:33<1:10:50,  1.34it/s]"
     ]
    },
    {
     "name": "stdout",
     "output_type": "stream",
     "text": [
      "\n",
      "Episode 9300, reward -192.0, memory_length 2000, epsilon 0.01055681754298134 total_time 723.0\n",
      "\n"
     ]
    },
    {
     "name": "stderr",
     "output_type": "stream",
     "text": [
      " 63%|██████▎   | 9400/15000 [2:11:53<1:23:57,  1.11it/s]"
     ]
    },
    {
     "name": "stdout",
     "output_type": "stream",
     "text": [
      "\n",
      "Episode 9400, reward -148.0, memory_length 2000, epsilon 0.010090726051468463 total_time 734.0\n",
      "\n"
     ]
    },
    {
     "name": "stderr",
     "output_type": "stream",
     "text": [
      " 63%|██████▎   | 9500/15000 [2:13:14<1:05:27,  1.40it/s]"
     ]
    },
    {
     "name": "stdout",
     "output_type": "stream",
     "text": [
      "\n",
      "Episode 9500, reward -403.0, memory_length 2000, epsilon 0.009647366110231995 total_time 727.0\n",
      "\n"
     ]
    },
    {
     "name": "stderr",
     "output_type": "stream",
     "text": [
      " 64%|██████▍   | 9600/15000 [2:14:28<1:07:53,  1.33it/s]"
     ]
    },
    {
     "name": "stdout",
     "output_type": "stream",
     "text": [
      "\n",
      "Episode 9600, reward -277.0, memory_length 2000, epsilon 0.00922562908848296 total_time 727.0\n",
      "\n"
     ]
    },
    {
     "name": "stderr",
     "output_type": "stream",
     "text": [
      " 65%|██████▍   | 9700/15000 [2:15:45<1:13:32,  1.20it/s]"
     ]
    },
    {
     "name": "stdout",
     "output_type": "stream",
     "text": [
      "\n",
      "Episode 9700, reward -269.0, memory_length 2000, epsilon 0.008824460423993978 total_time 729.0\n",
      "\n"
     ]
    },
    {
     "name": "stderr",
     "output_type": "stream",
     "text": [
      " 65%|██████▌   | 9800/15000 [2:17:08<1:17:28,  1.12it/s]"
     ]
    },
    {
     "name": "stdout",
     "output_type": "stream",
     "text": [
      "\n",
      "Episode 9800, reward 232.0, memory_length 2000, epsilon 0.008442856986144408 total_time 723.0\n",
      "\n"
     ]
    },
    {
     "name": "stderr",
     "output_type": "stream",
     "text": [
      " 66%|██████▌   | 9900/15000 [2:18:25<1:11:12,  1.19it/s]"
     ]
    },
    {
     "name": "stdout",
     "output_type": "stream",
     "text": [
      "\n",
      "Episode 9900, reward 138.0, memory_length 2000, epsilon 0.008079864567571258 total_time 724.0\n",
      "\n"
     ]
    },
    {
     "name": "stderr",
     "output_type": "stream",
     "text": [
      " 67%|██████▋   | 10000/15000 [2:19:47<1:05:33,  1.27it/s]"
     ]
    },
    {
     "name": "stdout",
     "output_type": "stream",
     "text": [
      "\n",
      "Episode 10000, reward -101.0, memory_length 2000, epsilon 0.007734575498153806 total_time 721.0\n",
      "\n"
     ]
    },
    {
     "name": "stderr",
     "output_type": "stream",
     "text": [
      " 67%|██████▋   | 10100/15000 [2:21:18<1:20:54,  1.01it/s]"
     ]
    },
    {
     "name": "stdout",
     "output_type": "stream",
     "text": [
      "\n",
      "Episode 10100, reward -163.0, memory_length 2000, epsilon 0.007406126375365456 total_time 724.0\n",
      "\n"
     ]
    },
    {
     "name": "stderr",
     "output_type": "stream",
     "text": [
      " 68%|██████▊   | 10200/15000 [2:22:41<1:05:32,  1.22it/s]"
     ]
    },
    {
     "name": "stdout",
     "output_type": "stream",
     "text": [
      "\n",
      "Episode 10200, reward -283.0, memory_length 2000, epsilon 0.007093695905317728 total_time 727.0\n",
      "\n"
     ]
    },
    {
     "name": "stderr",
     "output_type": "stream",
     "text": [
      " 69%|██████▊   | 10300/15000 [2:24:04<1:09:44,  1.12it/s]"
     ]
    },
    {
     "name": "stdout",
     "output_type": "stream",
     "text": [
      "\n",
      "Episode 10300, reward 216.0, memory_length 2000, epsilon 0.006796502849097741 total_time 722.0\n",
      "\n"
     ]
    },
    {
     "name": "stderr",
     "output_type": "stream",
     "text": [
      " 69%|██████▉   | 10400/15000 [2:25:27<1:00:16,  1.27it/s]"
     ]
    },
    {
     "name": "stdout",
     "output_type": "stream",
     "text": [
      "\n",
      "Episode 10400, reward 145.0, memory_length 2000, epsilon 0.006513804069263989 total_time 724.0\n",
      "\n"
     ]
    },
    {
     "name": "stderr",
     "output_type": "stream",
     "text": [
      " 70%|███████   | 10500/15000 [2:26:45<59:39,  1.26it/s]"
     ]
    },
    {
     "name": "stdout",
     "output_type": "stream",
     "text": [
      "\n",
      "Episode 10500, reward 222.0, memory_length 2000, epsilon 0.00624489267161568 total_time 722.0\n",
      "\n"
     ]
    },
    {
     "name": "stderr",
     "output_type": "stream",
     "text": [
      " 71%|███████   | 10600/15000 [2:28:10<1:02:57,  1.16it/s]"
     ]
    },
    {
     "name": "stdout",
     "output_type": "stream",
     "text": [
      "\n",
      "Episode 10600, reward 519.0, memory_length 2000, epsilon 0.005989096237588997 total_time 722.0\n",
      "\n"
     ]
    },
    {
     "name": "stderr",
     "output_type": "stream",
     "text": [
      " 71%|███████▏  | 10700/15000 [2:29:30<58:24,  1.23it/s]"
     ]
    },
    {
     "name": "stdout",
     "output_type": "stream",
     "text": [
      "\n",
      "Episode 10700, reward 153.0, memory_length 2000, epsilon 0.005745775142860459 total_time 722.0\n",
      "\n"
     ]
    },
    {
     "name": "stderr",
     "output_type": "stream",
     "text": [
      " 72%|███████▏  | 10800/15000 [2:30:51<55:31,  1.26it/s]"
     ]
    },
    {
     "name": "stdout",
     "output_type": "stream",
     "text": [
      "\n",
      "Episode 10800, reward -9.0, memory_length 2000, epsilon 0.00551432095795295 total_time 728.0\n",
      "\n"
     ]
    },
    {
     "name": "stderr",
     "output_type": "stream",
     "text": [
      " 73%|███████▎  | 10900/15000 [2:32:20<57:19,  1.19it/s]"
     ]
    },
    {
     "name": "stdout",
     "output_type": "stream",
     "text": [
      "\n",
      "Episode 10900, reward -69.0, memory_length 2000, epsilon 0.005294154926845093 total_time 726.0\n",
      "\n"
     ]
    },
    {
     "name": "stderr",
     "output_type": "stream",
     "text": [
      " 73%|███████▎  | 11000/15000 [2:33:39<49:33,  1.35it/s]"
     ]
    },
    {
     "name": "stdout",
     "output_type": "stream",
     "text": [
      "\n",
      "Episode 11000, reward 324.0, memory_length 2000, epsilon 0.005084726519779765 total_time 730.0\n",
      "\n"
     ]
    },
    {
     "name": "stderr",
     "output_type": "stream",
     "text": [
      " 74%|███████▍  | 11100/15000 [2:34:57<50:28,  1.29it/s]"
     ]
    },
    {
     "name": "stdout",
     "output_type": "stream",
     "text": [
      "\n",
      "Episode 11100, reward 101.0, memory_length 2000, epsilon 0.0048855120566529105 total_time 729.0\n",
      "\n"
     ]
    },
    {
     "name": "stderr",
     "output_type": "stream",
     "text": [
      " 75%|███████▍  | 11200/15000 [2:36:17<52:50,  1.20it/s]"
     ]
    },
    {
     "name": "stdout",
     "output_type": "stream",
     "text": [
      "\n",
      "Episode 11200, reward 704.0, memory_length 2000, epsilon 0.004696013397540534 total_time 722.0\n",
      "\n"
     ]
    },
    {
     "name": "stderr",
     "output_type": "stream",
     "text": [
      " 75%|███████▌  | 11300/15000 [2:37:39<48:45,  1.26it/s]"
     ]
    },
    {
     "name": "stdout",
     "output_type": "stream",
     "text": [
      "\n",
      "Episode 11300, reward 415.0, memory_length 2000, epsilon 0.0045157566970894115 total_time 723.0\n",
      "\n"
     ]
    },
    {
     "name": "stderr",
     "output_type": "stream",
     "text": [
      " 76%|███████▌  | 11400/15000 [2:39:00<50:49,  1.18it/s]"
     ]
    },
    {
     "name": "stdout",
     "output_type": "stream",
     "text": [
      "\n",
      "Episode 11400, reward 28.0, memory_length 2000, epsilon 0.00434429121965689 total_time 722.0\n",
      "\n"
     ]
    },
    {
     "name": "stderr",
     "output_type": "stream",
     "text": [
      " 77%|███████▋  | 11500/15000 [2:40:21<46:50,  1.25it/s]"
     ]
    },
    {
     "name": "stdout",
     "output_type": "stream",
     "text": [
      "\n",
      "Episode 11500, reward 519.0, memory_length 2000, epsilon 0.004181188212237015 total_time 728.0\n",
      "\n"
     ]
    },
    {
     "name": "stderr",
     "output_type": "stream",
     "text": [
      " 77%|███████▋  | 11600/15000 [2:41:39<45:03,  1.26it/s]"
     ]
    },
    {
     "name": "stdout",
     "output_type": "stream",
     "text": [
      "\n",
      "Episode 11600, reward 194.0, memory_length 2000, epsilon 0.004026039832354672 total_time 730.0\n",
      "\n"
     ]
    },
    {
     "name": "stderr",
     "output_type": "stream",
     "text": [
      " 78%|███████▊  | 11700/15000 [2:42:59<41:47,  1.32it/s]"
     ]
    },
    {
     "name": "stdout",
     "output_type": "stream",
     "text": [
      "\n",
      "Episode 11700, reward 360.0, memory_length 2000, epsilon 0.003878458128246972 total_time 721.0\n",
      "\n"
     ]
    },
    {
     "name": "stderr",
     "output_type": "stream",
     "text": [
      " 79%|███████▊  | 11800/15000 [2:44:16<41:52,  1.27it/s]"
     ]
    },
    {
     "name": "stdout",
     "output_type": "stream",
     "text": [
      "\n",
      "Episode 11800, reward 154.0, memory_length 2000, epsilon 0.00373807406878177 total_time 723.0\n",
      "\n"
     ]
    },
    {
     "name": "stderr",
     "output_type": "stream",
     "text": [
      " 79%|███████▉  | 11900/15000 [2:45:35<40:29,  1.28it/s]"
     ]
    },
    {
     "name": "stdout",
     "output_type": "stream",
     "text": [
      "\n",
      "Episode 11900, reward 219.0, memory_length 2000, epsilon 0.0036045366206876096 total_time 728.0\n",
      "\n"
     ]
    },
    {
     "name": "stderr",
     "output_type": "stream",
     "text": [
      " 80%|████████  | 12000/15000 [2:46:54<40:42,  1.23it/s]"
     ]
    },
    {
     "name": "stdout",
     "output_type": "stream",
     "text": [
      "\n",
      "Episode 12000, reward -71.0, memory_length 2000, epsilon 0.0034775118707877097 total_time 725.0\n",
      "\n"
     ]
    },
    {
     "name": "stderr",
     "output_type": "stream",
     "text": [
      " 81%|████████  | 12100/15000 [2:48:17<43:31,  1.11it/s]"
     ]
    },
    {
     "name": "stdout",
     "output_type": "stream",
     "text": [
      "\n",
      "Episode 12100, reward 500.0, memory_length 2000, epsilon 0.003356682191043081 total_time 721.0\n",
      "\n"
     ]
    },
    {
     "name": "stderr",
     "output_type": "stream",
     "text": [
      " 81%|████████▏ | 12200/15000 [2:49:42<39:59,  1.17it/s]"
     ]
    },
    {
     "name": "stdout",
     "output_type": "stream",
     "text": [
      "\n",
      "Episode 12200, reward 736.0, memory_length 2000, epsilon 0.003241745444316992 total_time 726.0\n",
      "\n"
     ]
    },
    {
     "name": "stderr",
     "output_type": "stream",
     "text": [
      " 82%|████████▏ | 12300/15000 [2:51:07<41:12,  1.09it/s]"
     ]
    },
    {
     "name": "stdout",
     "output_type": "stream",
     "text": [
      "\n",
      "Episode 12300, reward 527.0, memory_length 2000, epsilon 0.0031324142288747503 total_time 721.0\n",
      "\n"
     ]
    },
    {
     "name": "stderr",
     "output_type": "stream",
     "text": [
      " 83%|████████▎ | 12400/15000 [2:52:28<33:13,  1.30it/s]"
     ]
    },
    {
     "name": "stdout",
     "output_type": "stream",
     "text": [
      "\n",
      "Episode 12400, reward 117.0, memory_length 2000, epsilon 0.003028415159729661 total_time 730.0\n",
      "\n"
     ]
    },
    {
     "name": "stderr",
     "output_type": "stream",
     "text": [
      " 83%|████████▎ | 12500/15000 [2:53:49<33:04,  1.26it/s]"
     ]
    },
    {
     "name": "stdout",
     "output_type": "stream",
     "text": [
      "\n",
      "Episode 12500, reward 294.0, memory_length 2000, epsilon 0.0029294881850381697 total_time 725.0\n",
      "\n"
     ]
    },
    {
     "name": "stderr",
     "output_type": "stream",
     "text": [
      " 84%|████████▍ | 12600/15000 [2:55:11<30:17,  1.32it/s]"
     ]
    },
    {
     "name": "stdout",
     "output_type": "stream",
     "text": [
      "\n",
      "Episode 12600, reward 604.0, memory_length 2000, epsilon 0.0028353859358347857 total_time 722.0\n",
      "\n"
     ]
    },
    {
     "name": "stderr",
     "output_type": "stream",
     "text": [
      " 85%|████████▍ | 12700/15000 [2:56:31<30:49,  1.24it/s]"
     ]
    },
    {
     "name": "stdout",
     "output_type": "stream",
     "text": [
      "\n",
      "Episode 12700, reward 81.0, memory_length 2000, epsilon 0.0027458731074808274 total_time 726.0\n",
      "\n"
     ]
    },
    {
     "name": "stderr",
     "output_type": "stream",
     "text": [
      " 85%|████████▌ | 12800/15000 [2:57:50<28:53,  1.27it/s]"
     ]
    },
    {
     "name": "stdout",
     "output_type": "stream",
     "text": [
      "\n",
      "Episode 12800, reward 269.0, memory_length 2000, epsilon 0.0026607258712802615 total_time 722.0\n",
      "\n"
     ]
    },
    {
     "name": "stderr",
     "output_type": "stream",
     "text": [
      " 86%|████████▌ | 12900/15000 [2:59:12<28:03,  1.25it/s]"
     ]
    },
    {
     "name": "stdout",
     "output_type": "stream",
     "text": [
      "\n",
      "Episode 12900, reward 191.0, memory_length 2000, epsilon 0.002579731314791369 total_time 729.0\n",
      "\n"
     ]
    },
    {
     "name": "stderr",
     "output_type": "stream",
     "text": [
      " 87%|████████▋ | 13000/15000 [3:00:32<26:52,  1.24it/s]"
     ]
    },
    {
     "name": "stdout",
     "output_type": "stream",
     "text": [
      "\n",
      "Episode 13000, reward 420.0, memory_length 2000, epsilon 0.0025026869094347502 total_time 721.0\n",
      "\n"
     ]
    },
    {
     "name": "stderr",
     "output_type": "stream",
     "text": [
      " 87%|████████▋ | 13100/15000 [3:01:51<24:18,  1.30it/s]"
     ]
    },
    {
     "name": "stdout",
     "output_type": "stream",
     "text": [
      "\n",
      "Episode 13100, reward 363.0, memory_length 2000, epsilon 0.0024294000040663744 total_time 721.0\n",
      "\n"
     ]
    },
    {
     "name": "stderr",
     "output_type": "stream",
     "text": [
      " 88%|████████▊ | 13200/15000 [3:03:13<26:52,  1.12it/s]"
     ]
    },
    {
     "name": "stdout",
     "output_type": "stream",
     "text": [
      "\n",
      "Episode 13200, reward -134.0, memory_length 2000, epsilon 0.0023596873432493756 total_time 725.0\n",
      "\n"
     ]
    },
    {
     "name": "stderr",
     "output_type": "stream",
     "text": [
      " 89%|████████▊ | 13300/15000 [3:04:36<23:08,  1.22it/s]"
     ]
    },
    {
     "name": "stdout",
     "output_type": "stream",
     "text": [
      "\n",
      "Episode 13300, reward 532.0, memory_length 2000, epsilon 0.002293374609020009 total_time 724.0\n",
      "\n"
     ]
    },
    {
     "name": "stderr",
     "output_type": "stream",
     "text": [
      " 89%|████████▉ | 13400/15000 [3:05:55<20:58,  1.27it/s]"
     ]
    },
    {
     "name": "stdout",
     "output_type": "stream",
     "text": [
      "\n",
      "Episode 13400, reward 95.0, memory_length 2000, epsilon 0.002230295985001938 total_time 728.0\n",
      "\n"
     ]
    },
    {
     "name": "stderr",
     "output_type": "stream",
     "text": [
      " 90%|█████████ | 13500/15000 [3:07:16<20:00,  1.25it/s]"
     ]
    },
    {
     "name": "stdout",
     "output_type": "stream",
     "text": [
      "\n",
      "Episode 13500, reward 192.0, memory_length 2000, epsilon 0.0021702937417789328 total_time 725.0\n",
      "\n"
     ]
    },
    {
     "name": "stderr",
     "output_type": "stream",
     "text": [
      " 91%|█████████ | 13600/15000 [3:08:37<18:52,  1.24it/s]"
     ]
    },
    {
     "name": "stdout",
     "output_type": "stream",
     "text": [
      "\n",
      "Episode 13600, reward 321.0, memory_length 2000, epsilon 0.0021132178424891615 total_time 728.0\n",
      "\n"
     ]
    },
    {
     "name": "stderr",
     "output_type": "stream",
     "text": [
      " 91%|█████████▏| 13700/15000 [3:10:00<15:54,  1.36it/s]"
     ]
    },
    {
     "name": "stdout",
     "output_type": "stream",
     "text": [
      "\n",
      "Episode 13700, reward 42.0, memory_length 2000, epsilon 0.002058925567654892 total_time 725.0\n",
      "\n"
     ]
    },
    {
     "name": "stderr",
     "output_type": "stream",
     "text": [
      " 92%|█████████▏| 13800/15000 [3:11:19<16:51,  1.19it/s]"
     ]
    },
    {
     "name": "stdout",
     "output_type": "stream",
     "text": [
      "\n",
      "Episode 13800, reward 253.0, memory_length 2000, epsilon 0.0020072811583094546 total_time 724.0\n",
      "\n"
     ]
    },
    {
     "name": "stderr",
     "output_type": "stream",
     "text": [
      " 93%|█████████▎| 13900/15000 [3:12:39<15:11,  1.21it/s]"
     ]
    },
    {
     "name": "stdout",
     "output_type": "stream",
     "text": [
      "\n",
      "Episode 13900, reward 297.0, memory_length 2000, epsilon 0.0019581554765291144 total_time 722.0\n",
      "\n"
     ]
    },
    {
     "name": "stderr",
     "output_type": "stream",
     "text": [
      " 93%|█████████▎| 14000/15000 [3:13:59<13:03,  1.28it/s]"
     ]
    },
    {
     "name": "stdout",
     "output_type": "stream",
     "text": [
      "\n",
      "Episode 14000, reward -161.0, memory_length 2000, epsilon 0.0019114256825209972 total_time 725.0\n",
      "\n"
     ]
    },
    {
     "name": "stderr",
     "output_type": "stream",
     "text": [
      " 94%|█████████▍| 14100/15000 [3:15:22<12:13,  1.23it/s]"
     ]
    },
    {
     "name": "stdout",
     "output_type": "stream",
     "text": [
      "\n",
      "Episode 14100, reward 120.0, memory_length 2000, epsilon 0.0018669749274596188 total_time 721.0\n",
      "\n"
     ]
    },
    {
     "name": "stderr",
     "output_type": "stream",
     "text": [
      " 95%|█████████▍| 14200/15000 [3:16:41<10:39,  1.25it/s]"
     ]
    },
    {
     "name": "stdout",
     "output_type": "stream",
     "text": [
      "\n",
      "Episode 14200, reward 457.0, memory_length 2000, epsilon 0.0018246920613039616 total_time 729.0\n",
      "\n"
     ]
    },
    {
     "name": "stderr",
     "output_type": "stream",
     "text": [
      " 95%|█████████▌| 14300/15000 [3:17:59<09:10,  1.27it/s]"
     ]
    },
    {
     "name": "stdout",
     "output_type": "stream",
     "text": [
      "\n",
      "Episode 14300, reward 55.0, memory_length 2000, epsilon 0.0017844713548644752 total_time 721.0\n",
      "\n"
     ]
    },
    {
     "name": "stderr",
     "output_type": "stream",
     "text": [
      " 96%|█████████▌| 14400/15000 [3:19:19<08:16,  1.21it/s]"
     ]
    },
    {
     "name": "stdout",
     "output_type": "stream",
     "text": [
      "\n",
      "Episode 14400, reward 90.0, memory_length 2000, epsilon 0.0017462122354250298 total_time 724.0\n",
      "\n"
     ]
    },
    {
     "name": "stderr",
     "output_type": "stream",
     "text": [
      " 97%|█████████▋| 14500/15000 [3:20:40<06:07,  1.36it/s]"
     ]
    },
    {
     "name": "stdout",
     "output_type": "stream",
     "text": [
      "\n",
      "Episode 14500, reward -36.0, memory_length 2000, epsilon 0.0017098190352587423 total_time 732.0\n",
      "\n"
     ]
    },
    {
     "name": "stderr",
     "output_type": "stream",
     "text": [
      " 97%|█████████▋| 14600/15000 [3:21:59<05:13,  1.28it/s]"
     ]
    },
    {
     "name": "stdout",
     "output_type": "stream",
     "text": [
      "\n",
      "Episode 14600, reward 455.0, memory_length 2000, epsilon 0.0016752007524088257 total_time 730.0\n",
      "\n"
     ]
    },
    {
     "name": "stderr",
     "output_type": "stream",
     "text": [
      " 98%|█████████▊| 14700/15000 [3:23:15<03:45,  1.33it/s]"
     ]
    },
    {
     "name": "stdout",
     "output_type": "stream",
     "text": [
      "\n",
      "Episode 14700, reward 379.0, memory_length 2000, epsilon 0.0016422708231362965 total_time 722.0\n",
      "\n"
     ]
    },
    {
     "name": "stderr",
     "output_type": "stream",
     "text": [
      " 99%|█████████▊| 14800/15000 [3:24:34<02:44,  1.22it/s]"
     ]
    },
    {
     "name": "stdout",
     "output_type": "stream",
     "text": [
      "\n",
      "Episode 14800, reward 284.0, memory_length 2000, epsilon 0.0016109469054655392 total_time 731.0\n",
      "\n"
     ]
    },
    {
     "name": "stderr",
     "output_type": "stream",
     "text": [
      " 99%|█████████▉| 14900/15000 [3:25:53<01:15,  1.33it/s]"
     ]
    },
    {
     "name": "stdout",
     "output_type": "stream",
     "text": [
      "\n",
      "Episode 14900, reward -218.0, memory_length 2000, epsilon 0.0015811506732864766 total_time 723.0\n",
      "\n"
     ]
    },
    {
     "name": "stderr",
     "output_type": "stream",
     "text": [
      "100%|██████████| 15000/15000 [3:27:11<00:00,  1.21it/s]"
     ]
    },
    {
     "name": "stdout",
     "output_type": "stream",
     "text": [
      "\n",
      "Episode 15000, reward 196.0, memory_length 2000, epsilon 0.0015528076204984977 total_time 723.0\n",
      "\n",
      "\n",
      "Elapsed Time : 12431.811409950256 \n",
      "\n"
     ]
    },
    {
     "name": "stderr",
     "output_type": "stream",
     "text": [
      "\n"
     ]
    }
   ],
   "source": [
    "start_time = time.time()\n",
    "score_tracked = []\n",
    "\n",
    "\n",
    "for episode in tqdm(range(total_episodes)):\n",
    "\n",
    "    terminal_state = False\n",
    "    score = 0\n",
    "    track_reward = False\n",
    "\n",
    "    #reset at the start of each episode\n",
    "    env = CabDriver()\n",
    "    action_space, state_space, current_state = env.reset()\n",
    "    \n",
    "\n",
    "    total_time = 0\n",
    "    while not terminal_state:\n",
    "        # 1. Get a list of the ride requests driver got.\n",
    "        possible_actions_indices, actions = env.requests(current_state)\n",
    "        # 2. Pick epsilon-greedy action from possible actions for the current state.\n",
    "        current_action_idx = agent.get_action(state, possible_actions_indices, actions)\n",
    "\n",
    "        # 3. Evaluate your reward and next state\n",
    "        reward, next_state, step_time = env.step(current_state, env.action_space[current_action_idx], Time_matrix)\n",
    "        # 4. Total time driver rode in this episode\n",
    "        total_time += step_time\n",
    "        if (total_time > episode_time):\n",
    "          # if ride does not complete in stipulated time skip\n",
    "          # it and move to next episode.\n",
    "          terminal_state = True\n",
    "        else:\n",
    "          # 5. Append the experience to the memory\n",
    "          agent.append_sample(current_state, current_action_idx, reward, next_state, terminal_state)\n",
    "          # 6. Train the model by calling function agent.train_model\n",
    "          agent.train_model()\n",
    "          # 7. Keep a track of rewards, Q-values, loss\n",
    "          score += reward\n",
    "          current_state = next_state\n",
    "\n",
    "    # store total reward obtained in this episode\n",
    "    rewards_per_episode.append(score)\n",
    "    episodes.append(episode)\n",
    "      \n",
    "\n",
    "    # epsilon decay\n",
    "    agent.epsilon = agent.epsilon_min + (agent.epsilon_max - agent.epsilon_min) * np.exp(agent.epsilon_decay * episode)\n",
    "\n",
    "    # every 100 episodes:\n",
    "    if ((episode + 1) % 100 == 0):\n",
    "        print(\"\\nEpisode {0}, reward {1}, memory_length {2}, epsilon {3} total_time {4}\\n\".format(episode + 1,\n",
    "                                                score,len(agent.memory),agent.epsilon, total_time))\n",
    "        \n",
    "    # Save the Q_value of the state, action pair we are tracking\n",
    "    if ((episode + 1) % 50 == 0):       \n",
    "        update_tracking_states(agent)\n",
    "\n",
    "    # Total rewards per episode\n",
    "    score_tracked.append(score)\n",
    "\n",
    "           \n",
    "elapsed_time = time.time() - start_time\n",
    "print(\"\\nElapsed Time :\", elapsed_time, \"\\n\")"
   ]
  },
  {
   "cell_type": "markdown",
   "metadata": {
    "id": "sDqSG2zjLMY3"
   },
   "source": [
    "**Observation** \n",
    "- The 'total_time' above includes the 'last ride' time also in each episode. Although it exceeds 24*30 = 720, our code drops the last ride from the replay buffer. So the total ride time per episode is limited to < 720\n"
   ]
  },
  {
   "cell_type": "code",
   "execution_count": null,
   "metadata": {
    "id": "Joo6GD_LBZfY"
   },
   "outputs": [],
   "source": [
    "agent.save(name=\"model_weights\")"
   ]
  },
  {
   "cell_type": "markdown",
   "metadata": {
    "id": "ZAb3QvgaZb1A"
   },
   "source": [
    "## 6. Tracking Convergence"
   ]
  },
  {
   "cell_type": "code",
   "execution_count": null,
   "metadata": {
    "colab": {
     "base_uri": "https://localhost:8080/"
    },
    "id": "qIsKHcYHZb1B",
    "outputId": "5196aef1-7c46-486a-cb42-f18b1c5f3d67"
   },
   "outputs": [
    {
     "name": "stdout",
     "output_type": "stream",
     "text": [
      "state - (0, 0, 0) - action - (0, 1) - 300\n",
      "state - (0, 1, 1) - action - (3, 4) - 0\n",
      "state - (1, 2, 2) - action - (0, 2) - 300\n",
      "state - (1, 2, 2) - action - (2, 3) - 0\n",
      "state - (2, 3, 3) - action - (2, 1) - 263\n",
      "state - (2, 3, 3) - action - (3, 4) - 0\n",
      "state - (3, 4, 4) - action - (3, 0) - 290\n",
      "state - (4, 4, 4) - action - (1, 0) - 300\n",
      "state - (4, 5, 5) - action - (0, 1) - 300\n",
      "state - (4, 5, 5) - action - (1, 2) - 263\n"
     ]
    }
   ],
   "source": [
    " tracked_states_plotting=[]\n",
    " for st in tracked_states.keys():\n",
    "        for ac in tracked_states[st].keys():\n",
    "            number_of_tracked_q_values = len(list(filter(lambda x: x!= 0, tracked_states[st][ac])))\n",
    "            print('state - {0} - action - {1} - {2}'.format(st, ac, number_of_tracked_q_values))\n",
    "            # selecting only the states with non-zero values for plotting\n",
    "            if (number_of_tracked_q_values):              \n",
    "              tracked_states_plotting.append((st,ac))"
   ]
  },
  {
   "cell_type": "markdown",
   "metadata": {
    "id": "7z_2PzHtLMY3"
   },
   "source": [
    "**Observation** \n",
    "- There are values in the saved states which can be plotted"
   ]
  },
  {
   "cell_type": "markdown",
   "metadata": {
    "id": "qdOLlXIb9wfD"
   },
   "source": [
    "\n",
    "**draw convergence plot for a state - action pair**"
   ]
  },
  {
   "cell_type": "code",
   "execution_count": null,
   "metadata": {
    "id": "9eZprhAaZb1B"
   },
   "outputs": [],
   "source": [
    "def plot_q_val_convergence(state, action):\n",
    "\n",
    "    tracked_q_values = tracked_states[state][action]\n",
    "    number_of_tracked_episodes = len(tracked_q_values)\n",
    "    plt.plot(range(0, number_of_tracked_episodes), tracked_q_values)\n",
    "        \n",
    "    plt.ylabel(\"Q_value\")\n",
    "    \n",
    "    plt.title(\"State : {0} - Action : {1}\".format(state, action))\n",
    "    plt.legend([\"Q-value\"], loc=\"lower right\")"
   ]
  },
  {
   "cell_type": "code",
   "execution_count": null,
   "metadata": {
    "id": "DPoorbTzZb1B"
   },
   "outputs": [],
   "source": [
    "def plot_q_val_log_convergence(state, action):\n",
    "\n",
    "    tracked_q_values = tracked_states[state][action]\n",
    "    number_of_tracked_episodes = len(tracked_q_values)\n",
    "    plt.semilogy(range(0, number_of_tracked_episodes), tracked_q_values)\n",
    "        \n",
    "    plt.ylabel(\"Q_value\")\n",
    "    \n",
    "    plt.title(\"State : {0} - Action : {1}\".format(state, action))\n",
    "    plt.legend([\"Q-value\"], loc=\"lower right\")\n",
    "\n"
   ]
  },
  {
   "cell_type": "markdown",
   "metadata": {
    "id": "NZ8UiHyW97B8"
   },
   "source": [
    "**Display convergence of tracked states**"
   ]
  },
  {
   "cell_type": "code",
   "execution_count": null,
   "metadata": {
    "colab": {
     "base_uri": "https://localhost:8080/",
     "height": 534
    },
    "id": "UgrPjsMDPM1s",
    "outputId": "29e6b982-440c-4ea0-a8ff-20e12b03e865"
   },
   "outputs": [
    {
     "data": {
      "image/png": "[encoded data removed]",
      "text/plain": [
       "<Figure size 1800x1080 with 7 Axes>"
      ]
     },
     "metadata": {
      "needs_background": "light"
     },
     "output_type": "display_data"
    }
   ],
   "source": [
    "plt.figure(0, figsize=(25, 15))\n",
    "i = 0\n",
    "for state, action in tracked_states_plotting:\n",
    "    plt.subplot(4,3, i + 1)\n",
    "    plot_q_val_convergence(state, action)\n",
    "    i +=1"
   ]
  },
  {
   "cell_type": "markdown",
   "metadata": {
    "id": "cjwvof15LMY4"
   },
   "source": [
    "**Observation** \n",
    "- The Q Value is steadily showing improvement spikes as the number of runs are increasing, which shows that the model is learning"
   ]
  },
  {
   "cell_type": "code",
   "execution_count": null,
   "metadata": {
    "colab": {
     "base_uri": "https://localhost:8080/",
     "height": 531
    },
    "id": "cu-hujYKPRF-",
    "outputId": "61491cbc-e04f-46e7-8781-2d07c83f3e64"
   },
   "outputs": [
    {
     "data": {
      "image/png": "[encoded data removed]",
      "text/plain": [
       "<Figure size 1800x1080 with 7 Axes>"
      ]
     },
     "metadata": {
      "needs_background": "light"
     },
     "output_type": "display_data"
    }
   ],
   "source": [
    "plt.figure(0, figsize=(25, 15))\n",
    "i = 0\n",
    "for state, action in tracked_states_plotting:\n",
    "    plt.subplot(4,3, i + 1)\n",
    "    plot_q_val_log_convergence(state, action)\n",
    "    i +=1"
   ]
  },
  {
   "cell_type": "markdown",
   "metadata": {
    "id": "_9gV_76K-D9z"
   },
   "source": [
    "**Observation** \n",
    "- The Log Scale is not that useful in smoothening the curve as the number of runs are restricted to 7000. \n",
    "- We can repeat the experiment with close to 15K runs and check for improvement of Q Values\n",
    "\n",
    "**Plotting Average Monthly Rewards**"
   ]
  },
  {
   "cell_type": "code",
   "execution_count": null,
   "metadata": {
    "id": "zbqpOE-AQDjO"
   },
   "outputs": [],
   "source": [
    "!cp model_weights.pkl '/content/gdrive/MyDrive/Colab Notebooks/RL/Test/model_weights.pkl'"
   ]
  },
  {
   "cell_type": "code",
   "execution_count": null,
   "metadata": {
    "colab": {
     "base_uri": "https://localhost:8080/",
     "height": 611
    },
    "id": "HdxV-_-3R9Gf",
    "outputId": "9d30e692-dac8-4c22-986a-1687ff46ae87"
   },
   "outputs": [
    {
     "data": {
      "image/png": "[encoded data removed]",
      "text/plain": [
       "<Figure size 1440x720 with 1 Axes>"
      ]
     },
     "metadata": {
      "needs_background": "light"
     },
     "output_type": "display_data"
    }
   ],
   "source": [
    "avg_monthly_rewards = [\n",
    "    np.mean(rewards_per_episode[0:x + 99])\n",
    "    for x in range(0, total_episodes, 100)\n",
    "]\n",
    "\n",
    "plt.figure(figsize=(20, 10))\n",
    "\n",
    "plt.plot(range(0, len(avg_monthly_rewards)), avg_monthly_rewards)\n",
    "\n",
    "plt.xlabel(\"Number of hundred(s) episodes (x 100)\")\n",
    "plt.ylabel(\"Average Reward after episodes\")\n",
    "plt.title(\"Reward Graph\")\n",
    "plt.xticks(range(0, 150, 5))\n",
    "\n",
    "plt.show()"
   ]
  },
  {
   "cell_type": "markdown",
   "metadata": {
    "id": "oKF6cf-gUb2v"
   },
   "source": [
    "**Conclusion**\n",
    "- We have been able to create a Deep Q Model, which learns the Env and able to predict Actions, which can maximise the reward, which is the goal of this assignment.\n",
    "- As seen above, we start with a low Reward, and slowly the graph rises up to better rewards\n",
    "- Having said that, we need to run many more iterations, to get to better results, which we havent done due to infrastructure and time constraints."
   ]
  },
  {
   "cell_type": "code",
   "execution_count": null,
   "metadata": {
    "id": "nsqqoLllLMY5"
   },
   "outputs": [],
   "source": []
  }
 ],
 "metadata": {
  "colab": {
   "collapsed_sections": [],
   "name": "DQN_Agent_Arch1.ipynb",
   "provenance": []
  },
  "kernelspec": {
   "display_name": "Python 3",
   "language": "python",
   "name": "python3"
  },
  "language_info": {
   "codemirror_mode": {
    "name": "ipython",
    "version": 3
   },
   "file_extension": ".py",
   "mimetype": "text/x-python",
   "name": "python",
   "nbconvert_exporter": "python",
   "pygments_lexer": "ipython3",
   "version": "3.9.1"
  }
 },
 "nbformat": 4,
 "nbformat_minor": 1
}
